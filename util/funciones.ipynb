{
 "cells": [
  {
   "cell_type": "code",
   "execution_count": null,
   "metadata": {},
   "outputs": [],
   "source": [
    "import pandas as pd\n",
    "import os"
   ]
  },
  {
   "cell_type": "code",
   "execution_count": null,
   "metadata": {},
   "outputs": [],
   "source": [
    "def completar_serie_temporal_mensual(ruta_carpeta):\n",
    "    # Obtener la lista de archivos en la carpeta\n",
    "    archivos = os.listdir(ruta_carpeta)\n",
    "    \n",
    "    # Iterar sobre los archivos en la carpeta\n",
    "    for archivo in archivos:\n",
    "        # Verificar que el archivo es un archivo CSV\n",
    "        if archivo.endswith('.csv'):\n",
    "            # Construir la ruta completa al archivo\n",
    "            if not os.path.exists(\"data/series\"):\n",
    "                os.makedirs(\"data/series\")\n",
    "            ruta_carpeta2 = \"data/series\"\n",
    "            ruta_archivo = os.path.join(ruta_carpeta, archivo)\n",
    "            ruta_nueva =  os.path.join(ruta_carpeta2, archivo)\n",
    "            # Leer el archivo CSV\n",
    "            df = pd.read_csv(ruta_archivo)\n",
    "            \n",
    "            # Convertir la columna 'year_month' a tipo datetime\n",
    "            df['year_month'] = pd.to_datetime(df['year_month'])\n",
    "            \n",
    "            # Eliminar filas duplicadas si existen\n",
    "            df = df.drop_duplicates(subset=['year_month'])\n",
    "            \n",
    "            # Obtener la menor y la mayor fecha presente en el DataFrame\n",
    "            min_fecha = df['year_month'].min()\n",
    "            max_fecha = df['year_month'].max()\n",
    "            \n",
    "            # Crear una serie temporal mensual entre la menor y la mayor fecha\n",
    "            fechas_mensuales = pd.date_range(start=min_fecha, end=max_fecha, freq='M')\n",
    "            \n",
    "            # Crear un DataFrame vacío con las fechas mensuales como índice\n",
    "            df_mensual = pd.DataFrame(index=fechas_mensuales)\n",
    "            \n",
    "            # Rellenar la serie temporal mensual con los valores del trimestre correspondiente\n",
    "            df_mensual['total_obs_value'] = df.set_index('year_month').resample('M').ffill()['total_obs_value']\n",
    "            \n",
    "            # Guardar el DataFrame reducido como un archivo CSV (sobreescribiendo el archivo original)\n",
    "            df_mensual.to_csv(ruta_nueva)\n"
   ]
  }
 ],
 "metadata": {
  "kernelspec": {
   "display_name": "Python 3",
   "language": "python",
   "name": "python3"
  },
  "language_info": {
   "name": "python",
   "version": "3.10.9"
  }
 },
 "nbformat": 4,
 "nbformat_minor": 2
}
