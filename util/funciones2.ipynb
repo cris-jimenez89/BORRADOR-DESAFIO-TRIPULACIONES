{
 "cells": [
  {
   "cell_type": "code",
   "execution_count": 1,
   "metadata": {},
   "outputs": [],
   "source": [
    "import pandas as pd\n",
    "import os\n",
    "from datetime import datetime"
   ]
  },
  {
   "cell_type": "markdown",
   "metadata": {},
   "source": [
    "v1"
   ]
  },
  {
   "cell_type": "code",
   "execution_count": 1,
   "metadata": {},
   "outputs": [],
   "source": [
    "def completar_serie_temporal_mensual(ruta_carpeta):\n",
    "    # Obtener la lista de archivos en la carpeta\n",
    "    archivos = os.listdir(ruta_carpeta)\n",
    "    \n",
    "    # Iterar sobre los archivos en la carpeta\n",
    "    for archivo in archivos:\n",
    "        # Verificar que el archivo es un archivo CSV\n",
    "        if archivo.endswith('.csv'):\n",
    "            # Construir la ruta completa al archivo\n",
    "            if not os.path.exists(\"data/series\"):\n",
    "                os.makedirs(\"data/series\")\n",
    "            ruta_carpeta2 = \"data/series\"\n",
    "            ruta_archivo = os.path.join(ruta_carpeta, archivo)\n",
    "            ruta_nueva =  os.path.join(ruta_carpeta2, archivo)\n",
    "            # Leer el archivo CSV\n",
    "            df = pd.read_csv(ruta_archivo)\n",
    "            \n",
    "            # Convertir la columna 'year_month' a tipo datetime\n",
    "            df['year_month'] = pd.to_datetime(df['year_month'])\n",
    "            \n",
    "            # Eliminar filas duplicadas si existen\n",
    "            df = df.drop_duplicates(subset=['year_month'])\n",
    "            \n",
    "            # Obtener la menor y la mayor fecha presente en el DataFrame\n",
    "            min_fecha = df['year_month'].min()\n",
    "            max_fecha = df['year_month'].max()\n",
    "            \n",
    "            # Crear una serie temporal mensual entre la menor y la mayor fecha\n",
    "            fechas_mensuales = pd.date_range(start=min_fecha, end=max_fecha, freq='M')\n",
    "            \n",
    "            # Crear un DataFrame vacío con las fechas mensuales como índice\n",
    "            df_mensual = pd.DataFrame(index=fechas_mensuales)\n",
    "            \n",
    "            # Rellenar la serie temporal mensual con los valores del trimestre correspondiente\n",
    "            df_mensual['total_obs_value'] = df.set_index('year_month').resample('M').ffill()['total_obs_value']\n",
    "            \n",
    "            # Guardar el DataFrame reducido como un archivo CSV (sobreescribiendo el archivo original)\n",
    "            df_mensual.to_csv(ruta_nueva)\n"
   ]
  },
  {
   "cell_type": "markdown",
   "metadata": {},
   "source": [
    "v2"
   ]
  },
  {
   "cell_type": "code",
   "execution_count": 4,
   "metadata": {},
   "outputs": [],
   "source": [
    "def completar_serie_temporal_mensual2(ruta_carpeta):\n",
    "    # Verificar si la carpeta \"data/series\" existe, si no, crearla\n",
    "    if not os.path.exists(\"data/series\"):\n",
    "        os.makedirs(\"data/series\")\n",
    "    \n",
    "    # Obtener la lista de archivos en la carpeta\n",
    "    archivos = os.listdir(ruta_carpeta)\n",
    "    \n",
    "    # Iterar sobre los archivos en la carpeta\n",
    "    for archivo in archivos:\n",
    "        # Verificar que el archivo es un archivo CSV\n",
    "        if archivo.endswith('.csv'):\n",
    "            # Construir la ruta completa al archivo\n",
    "            ruta_archivo = os.path.join(ruta_carpeta, archivo)\n",
    "            # Leer el archivo CSV\n",
    "            df = pd.read_csv(ruta_archivo, infer_datetime_format=True, parse_dates=['year_month'])\n",
    "            \n",
    "            # Obtener la menor y la mayor fecha presente en el DataFrame\n",
    "            min_fecha = df['year_month'].min()\n",
    "            max_fecha = datetime.strptime(\"2023-12-31\", \"%Y-%m-%d\").date()\n",
    "            \n",
    "            # Crear una serie temporal mensual entre la menor y la mayor fecha\n",
    "            fechas_mensuales = pd.date_range(start=min_fecha, end=max_fecha, freq='M')\n",
    "            \n",
    "            # Crear un DataFrame vacío con las fechas mensuales como índice\n",
    "            df_mensual = pd.DataFrame(index=fechas_mensuales)\n",
    "            \n",
    "            # Rellenar la serie temporal mensual con los valores del trimestre correspondiente\n",
    "            df_mensual['total_obs_value'] = df.set_index('year_month').resample('M').ffill()['total_obs_value']\n",
    "            \n",
    "            # Guardar el DataFrame reducido como un archivo CSV (sobreescribiendo el archivo original)\n",
    "            ruta_nueva = os.path.join(\"data/series\", archivo)\n",
    "            df_mensual.to_csv(ruta_nueva)"
   ]
  },
  {
   "cell_type": "markdown",
   "metadata": {},
   "source": [
    "v3"
   ]
  },
  {
   "cell_type": "code",
   "execution_count": 4,
   "metadata": {},
   "outputs": [],
   "source": [
    "def completar_serie_temporal_mensual3(ruta_carpeta):\n",
    "    # Verificar si la carpeta \"data/series\" existe, si no, crearla\n",
    "    if not os.path.exists(\"data/series\"):\n",
    "        os.makedirs(\"data/series\")\n",
    "    \n",
    "    # Obtener la lista de archivos en la carpeta\n",
    "    archivos = os.listdir(ruta_carpeta)\n",
    "    \n",
    "    # Iterar sobre los archivos en la carpeta\n",
    "    for archivo in archivos:\n",
    "        # Verificar que el archivo es un archivo CSV\n",
    "        if archivo.endswith('.csv'):\n",
    "            # Construir la ruta completa al archivo\n",
    "            ruta_archivo = os.path.join(ruta_carpeta, archivo)\n",
    "            # Leer el archivo CSV\n",
    "            df = pd.read_csv(ruta_archivo, infer_datetime_format=True, parse_dates=['year_month'])\n",
    "            # Eliminar filas duplicadas si existen\n",
    "            df = df.drop_duplicates(subset=['year_month'])\n",
    "            # Obtener la menor y la mayor fecha presente en el DataFrame\n",
    "            min_fecha = df['year_month'].min()\n",
    "            max_fecha = df['year_month'].max()\n",
    "            \n",
    "            # Crear un rango de fechas mensuales entre la menor y la mayor fecha\n",
    "            fechas_mensuales = pd.date_range(start=min_fecha, end=max_fecha, freq='M')\n",
    "            \n",
    "            # Reindexar el DataFrame para incluir todas las fechas mensuales entre la fecha mínima y la fecha máxima\n",
    "            df = df.set_index('year_month').reindex(fechas_mensuales)\n",
    "            \n",
    "            # Rellenar los valores faltantes con ceros\n",
    "            df['total_obs_value'] = df['total_obs_value'].fillna(0)\n",
    "            \n",
    "            # Rellenar la serie temporal mensual con los valores del trimestre correspondiente\n",
    "            df_mensual = df.resample('M').ffill()\n",
    "            \n",
    "            # Guardar el DataFrame reducido como un archivo CSV (sobreescribiendo el archivo original)\n",
    "            ruta_nueva = os.path.join(\"data/series\", archivo)\n",
    "            df_mensual.to_csv(ruta_nueva)"
   ]
  },
  {
   "cell_type": "markdown",
   "metadata": {},
   "source": [
    "v4"
   ]
  },
  {
   "cell_type": "code",
   "execution_count": 2,
   "metadata": {},
   "outputs": [],
   "source": [
    "def completar_serie_temporal_mensual4(ruta_carpeta):\n",
    "    # Verificar si la carpeta de salida existe, si no, crearla\n",
    "    if not os.path.exists(\"data/series\"):\n",
    "        os.makedirs(\"data/series\")\n",
    "    \n",
    "    # Obtener la lista de archivos en la carpeta\n",
    "    archivos = os.listdir(ruta_carpeta)\n",
    "    \n",
    "    # Iterar sobre los archivos en la carpeta\n",
    "    for archivo in archivos:\n",
    "        # Verificar que el archivo es un archivo CSV\n",
    "        if archivo.endswith('.csv'):\n",
    "            # Construir la ruta completa al archivo\n",
    "            ruta_archivo = os.path.join(ruta_carpeta, archivo)\n",
    "            # Leer el archivo CSV\n",
    "            df = pd.read_csv(ruta_archivo)\n",
    "            # Convertir la columna 'year_month' a tipo datetime\n",
    "            df['year_month'] = pd.to_datetime(df['year_month'])\n",
    "            # Eliminar filas duplicadas si existen\n",
    "            df = df.drop_duplicates(subset=['year_month'])\n",
    "            # Obtener la menor y la mayor fecha presente en el DataFrame\n",
    "            min_fecha = df['year_month'].min()\n",
    "            max_fecha = df['year_month'].max()\n",
    "            # Crear una serie temporal mensual entre la menor y la mayor fecha\n",
    "            fechas_mensuales = pd.date_range(start=min_fecha, end=max_fecha, freq='M')\n",
    "            # Crear un DataFrame vacío con las fechas mensuales como índice\n",
    "            df_mensual = pd.DataFrame(index=fechas_mensuales)\n",
    "            # Rellenar la serie temporal mensual con los valores del trimestre correspondiente\n",
    "            df_mensual['total_obs_value'] = df.set_index('year_month').resample('M').ffill()['total_obs_value']\n",
    "            # Guardar el DataFrame reducido como un archivo CSV\n",
    "            ruta_nueva = os.path.join(\"data/series\", archivo)\n",
    "            df_mensual.to_csv(ruta_nueva)\n"
   ]
  },
  {
   "cell_type": "code",
   "execution_count": 1,
   "metadata": {},
   "outputs": [],
   "source": [
    "def encontrar_dfs_con_valores_cero(dfs_by_country):\n",
    "   # Lista para almacenar las claves de los DataFrames que se eliminarán\n",
    "    keys_to_delete = []\n",
    "    \n",
    "    # Crear una copia de las claves del diccionario\n",
    "    keys_copy = list(dfs_by_country.keys())\n",
    "    \n",
    "    # Iterar sobre las claves del diccionario\n",
    "    for country in keys_copy:\n",
    "        dfs_pais = dfs_by_country[country]\n",
    "        for i, df in enumerate(dfs_pais):\n",
    "            # Calcular el porcentaje de valores cero en 'total_obs_value'\n",
    "            porcentaje_ceros = (df['total_obs_value'] == 0).mean() * 100\n",
    "            \n",
    "            # Verificar si el porcentaje de ceros es mayor al 50%\n",
    "            if porcentaje_ceros > 50:\n",
    "                # Agregar la clave del DataFrame a la lista de claves a eliminar\n",
    "                keys_to_delete.append(country)\n",
    "                break\n",
    "    \n",
    "        \n",
    "    return keys_to_delete"
   ]
  }
 ],
 "metadata": {
  "kernelspec": {
   "display_name": "Python 3",
   "language": "python",
   "name": "python3"
  },
  "language_info": {
   "codemirror_mode": {
    "name": "ipython",
    "version": 3
   },
   "file_extension": ".py",
   "mimetype": "text/x-python",
   "name": "python",
   "nbconvert_exporter": "python",
   "pygments_lexer": "ipython3",
   "version": "3.10.9"
  }
 },
 "nbformat": 4,
 "nbformat_minor": 2
}
