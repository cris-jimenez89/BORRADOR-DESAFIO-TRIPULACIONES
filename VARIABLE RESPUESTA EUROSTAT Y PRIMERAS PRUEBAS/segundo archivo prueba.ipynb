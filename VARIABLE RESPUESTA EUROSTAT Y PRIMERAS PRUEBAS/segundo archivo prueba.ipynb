{
 "cells": [
  {
   "cell_type": "code",
   "execution_count": 8,
   "metadata": {},
   "outputs": [],
   "source": [
    "import pandas as pd"
   ]
  },
  {
   "cell_type": "code",
   "execution_count": 9,
   "metadata": {},
   "outputs": [],
   "source": [
    "variable_respuesta = pd.read_csv(\"estat_lfsq_pganws_en.csv\")"
   ]
  },
  {
   "cell_type": "code",
   "execution_count": 10,
   "metadata": {},
   "outputs": [
    {
     "data": {
      "text/html": [
       "<div>\n",
       "<style scoped>\n",
       "    .dataframe tbody tr th:only-of-type {\n",
       "        vertical-align: middle;\n",
       "    }\n",
       "\n",
       "    .dataframe tbody tr th {\n",
       "        vertical-align: top;\n",
       "    }\n",
       "\n",
       "    .dataframe thead th {\n",
       "        text-align: right;\n",
       "    }\n",
       "</style>\n",
       "<table border=\"1\" class=\"dataframe\">\n",
       "  <thead>\n",
       "    <tr style=\"text-align: right;\">\n",
       "      <th></th>\n",
       "      <th>DATAFLOW</th>\n",
       "      <th>LAST UPDATE</th>\n",
       "      <th>freq</th>\n",
       "      <th>unit</th>\n",
       "      <th>sex</th>\n",
       "      <th>citizen</th>\n",
       "      <th>age</th>\n",
       "      <th>wstatus</th>\n",
       "      <th>geo</th>\n",
       "      <th>TIME_PERIOD</th>\n",
       "      <th>OBS_VALUE</th>\n",
       "      <th>OBS_FLAG</th>\n",
       "    </tr>\n",
       "  </thead>\n",
       "  <tbody>\n",
       "    <tr>\n",
       "      <th>0</th>\n",
       "      <td>ESTAT:LFSQ_PGANWS(1.0)</td>\n",
       "      <td>15/03/24 11:00:00</td>\n",
       "      <td>Q</td>\n",
       "      <td>THS_PER</td>\n",
       "      <td>F</td>\n",
       "      <td>EU27_2020_FOR</td>\n",
       "      <td>Y15-19</td>\n",
       "      <td>ACT</td>\n",
       "      <td>AT</td>\n",
       "      <td>1998-Q1</td>\n",
       "      <td>NaN</td>\n",
       "      <td>u</td>\n",
       "    </tr>\n",
       "    <tr>\n",
       "      <th>1</th>\n",
       "      <td>ESTAT:LFSQ_PGANWS(1.0)</td>\n",
       "      <td>15/03/24 11:00:00</td>\n",
       "      <td>Q</td>\n",
       "      <td>THS_PER</td>\n",
       "      <td>F</td>\n",
       "      <td>EU27_2020_FOR</td>\n",
       "      <td>Y15-19</td>\n",
       "      <td>ACT</td>\n",
       "      <td>AT</td>\n",
       "      <td>1999-Q1</td>\n",
       "      <td>NaN</td>\n",
       "      <td>u</td>\n",
       "    </tr>\n",
       "    <tr>\n",
       "      <th>2</th>\n",
       "      <td>ESTAT:LFSQ_PGANWS(1.0)</td>\n",
       "      <td>15/03/24 11:00:00</td>\n",
       "      <td>Q</td>\n",
       "      <td>THS_PER</td>\n",
       "      <td>F</td>\n",
       "      <td>EU27_2020_FOR</td>\n",
       "      <td>Y15-19</td>\n",
       "      <td>ACT</td>\n",
       "      <td>AT</td>\n",
       "      <td>2000-Q1</td>\n",
       "      <td>NaN</td>\n",
       "      <td>u</td>\n",
       "    </tr>\n",
       "    <tr>\n",
       "      <th>3</th>\n",
       "      <td>ESTAT:LFSQ_PGANWS(1.0)</td>\n",
       "      <td>15/03/24 11:00:00</td>\n",
       "      <td>Q</td>\n",
       "      <td>THS_PER</td>\n",
       "      <td>F</td>\n",
       "      <td>EU27_2020_FOR</td>\n",
       "      <td>Y15-19</td>\n",
       "      <td>ACT</td>\n",
       "      <td>AT</td>\n",
       "      <td>2000-Q2</td>\n",
       "      <td>NaN</td>\n",
       "      <td>u</td>\n",
       "    </tr>\n",
       "    <tr>\n",
       "      <th>4</th>\n",
       "      <td>ESTAT:LFSQ_PGANWS(1.0)</td>\n",
       "      <td>15/03/24 11:00:00</td>\n",
       "      <td>Q</td>\n",
       "      <td>THS_PER</td>\n",
       "      <td>F</td>\n",
       "      <td>EU27_2020_FOR</td>\n",
       "      <td>Y15-19</td>\n",
       "      <td>ACT</td>\n",
       "      <td>AT</td>\n",
       "      <td>2001-Q1</td>\n",
       "      <td>NaN</td>\n",
       "      <td>u</td>\n",
       "    </tr>\n",
       "    <tr>\n",
       "      <th>...</th>\n",
       "      <td>...</td>\n",
       "      <td>...</td>\n",
       "      <td>...</td>\n",
       "      <td>...</td>\n",
       "      <td>...</td>\n",
       "      <td>...</td>\n",
       "      <td>...</td>\n",
       "      <td>...</td>\n",
       "      <td>...</td>\n",
       "      <td>...</td>\n",
       "      <td>...</td>\n",
       "      <td>...</td>\n",
       "    </tr>\n",
       "    <tr>\n",
       "      <th>7563129</th>\n",
       "      <td>ESTAT:LFSQ_PGANWS(1.0)</td>\n",
       "      <td>15/03/24 11:00:00</td>\n",
       "      <td>Q</td>\n",
       "      <td>THS_PER</td>\n",
       "      <td>T</td>\n",
       "      <td>TOTAL</td>\n",
       "      <td>Y_GE75</td>\n",
       "      <td>POP</td>\n",
       "      <td>UK</td>\n",
       "      <td>2019-Q4</td>\n",
       "      <td>5395.0</td>\n",
       "      <td>NaN</td>\n",
       "    </tr>\n",
       "    <tr>\n",
       "      <th>7563130</th>\n",
       "      <td>ESTAT:LFSQ_PGANWS(1.0)</td>\n",
       "      <td>15/03/24 11:00:00</td>\n",
       "      <td>Q</td>\n",
       "      <td>THS_PER</td>\n",
       "      <td>T</td>\n",
       "      <td>TOTAL</td>\n",
       "      <td>Y_GE75</td>\n",
       "      <td>POP</td>\n",
       "      <td>UK</td>\n",
       "      <td>2020-Q1</td>\n",
       "      <td>5420.9</td>\n",
       "      <td>NaN</td>\n",
       "    </tr>\n",
       "    <tr>\n",
       "      <th>7563131</th>\n",
       "      <td>ESTAT:LFSQ_PGANWS(1.0)</td>\n",
       "      <td>15/03/24 11:00:00</td>\n",
       "      <td>Q</td>\n",
       "      <td>THS_PER</td>\n",
       "      <td>T</td>\n",
       "      <td>TOTAL</td>\n",
       "      <td>Y_GE75</td>\n",
       "      <td>POP</td>\n",
       "      <td>UK</td>\n",
       "      <td>2020-Q2</td>\n",
       "      <td>5441.6</td>\n",
       "      <td>NaN</td>\n",
       "    </tr>\n",
       "    <tr>\n",
       "      <th>7563132</th>\n",
       "      <td>ESTAT:LFSQ_PGANWS(1.0)</td>\n",
       "      <td>15/03/24 11:00:00</td>\n",
       "      <td>Q</td>\n",
       "      <td>THS_PER</td>\n",
       "      <td>T</td>\n",
       "      <td>TOTAL</td>\n",
       "      <td>Y_GE75</td>\n",
       "      <td>POP</td>\n",
       "      <td>UK</td>\n",
       "      <td>2020-Q3</td>\n",
       "      <td>5501.4</td>\n",
       "      <td>NaN</td>\n",
       "    </tr>\n",
       "    <tr>\n",
       "      <th>7563133</th>\n",
       "      <td>ESTAT:LFSQ_PGANWS(1.0)</td>\n",
       "      <td>15/03/24 11:00:00</td>\n",
       "      <td>Q</td>\n",
       "      <td>THS_PER</td>\n",
       "      <td>T</td>\n",
       "      <td>TOTAL</td>\n",
       "      <td>Y_GE75</td>\n",
       "      <td>UNK</td>\n",
       "      <td>CY</td>\n",
       "      <td>1999-Q2</td>\n",
       "      <td>28.0</td>\n",
       "      <td>NaN</td>\n",
       "    </tr>\n",
       "  </tbody>\n",
       "</table>\n",
       "<p>7563134 rows × 12 columns</p>\n",
       "</div>"
      ],
      "text/plain": [
       "                       DATAFLOW        LAST UPDATE freq     unit sex  \\\n",
       "0        ESTAT:LFSQ_PGANWS(1.0)  15/03/24 11:00:00    Q  THS_PER   F   \n",
       "1        ESTAT:LFSQ_PGANWS(1.0)  15/03/24 11:00:00    Q  THS_PER   F   \n",
       "2        ESTAT:LFSQ_PGANWS(1.0)  15/03/24 11:00:00    Q  THS_PER   F   \n",
       "3        ESTAT:LFSQ_PGANWS(1.0)  15/03/24 11:00:00    Q  THS_PER   F   \n",
       "4        ESTAT:LFSQ_PGANWS(1.0)  15/03/24 11:00:00    Q  THS_PER   F   \n",
       "...                         ...                ...  ...      ...  ..   \n",
       "7563129  ESTAT:LFSQ_PGANWS(1.0)  15/03/24 11:00:00    Q  THS_PER   T   \n",
       "7563130  ESTAT:LFSQ_PGANWS(1.0)  15/03/24 11:00:00    Q  THS_PER   T   \n",
       "7563131  ESTAT:LFSQ_PGANWS(1.0)  15/03/24 11:00:00    Q  THS_PER   T   \n",
       "7563132  ESTAT:LFSQ_PGANWS(1.0)  15/03/24 11:00:00    Q  THS_PER   T   \n",
       "7563133  ESTAT:LFSQ_PGANWS(1.0)  15/03/24 11:00:00    Q  THS_PER   T   \n",
       "\n",
       "               citizen     age wstatus geo TIME_PERIOD  OBS_VALUE OBS_FLAG  \n",
       "0        EU27_2020_FOR  Y15-19     ACT  AT     1998-Q1        NaN        u  \n",
       "1        EU27_2020_FOR  Y15-19     ACT  AT     1999-Q1        NaN        u  \n",
       "2        EU27_2020_FOR  Y15-19     ACT  AT     2000-Q1        NaN        u  \n",
       "3        EU27_2020_FOR  Y15-19     ACT  AT     2000-Q2        NaN        u  \n",
       "4        EU27_2020_FOR  Y15-19     ACT  AT     2001-Q1        NaN        u  \n",
       "...                ...     ...     ...  ..         ...        ...      ...  \n",
       "7563129          TOTAL  Y_GE75     POP  UK     2019-Q4     5395.0      NaN  \n",
       "7563130          TOTAL  Y_GE75     POP  UK     2020-Q1     5420.9      NaN  \n",
       "7563131          TOTAL  Y_GE75     POP  UK     2020-Q2     5441.6      NaN  \n",
       "7563132          TOTAL  Y_GE75     POP  UK     2020-Q3     5501.4      NaN  \n",
       "7563133          TOTAL  Y_GE75     UNK  CY     1999-Q2       28.0      NaN  \n",
       "\n",
       "[7563134 rows x 12 columns]"
      ]
     },
     "execution_count": 10,
     "metadata": {},
     "output_type": "execute_result"
    }
   ],
   "source": [
    "variable_respuesta"
   ]
  },
  {
   "cell_type": "code",
   "execution_count": 11,
   "metadata": {},
   "outputs": [
    {
     "name": "stdout",
     "output_type": "stream",
     "text": [
      "<class 'pandas.core.frame.DataFrame'>\n",
      "RangeIndex: 7563134 entries, 0 to 7563133\n",
      "Data columns (total 12 columns):\n",
      " #   Column       Dtype  \n",
      "---  ------       -----  \n",
      " 0   DATAFLOW     object \n",
      " 1   LAST UPDATE  object \n",
      " 2   freq         object \n",
      " 3   unit         object \n",
      " 4   sex          object \n",
      " 5   citizen      object \n",
      " 6   age          object \n",
      " 7   wstatus      object \n",
      " 8   geo          object \n",
      " 9   TIME_PERIOD  object \n",
      " 10  OBS_VALUE    float64\n",
      " 11  OBS_FLAG     object \n",
      "dtypes: float64(1), object(11)\n",
      "memory usage: 692.4+ MB\n"
     ]
    }
   ],
   "source": [
    "variable_respuesta.info()"
   ]
  },
  {
   "cell_type": "code",
   "execution_count": 12,
   "metadata": {},
   "outputs": [
    {
     "data": {
      "text/plain": [
       "'2023-Q4'"
      ]
     },
     "execution_count": 12,
     "metadata": {},
     "output_type": "execute_result"
    }
   ],
   "source": [
    "variable_respuesta.TIME_PERIOD.max() # 2023, cuartil 4, VALOR MAXIMO EN TIEMPO"
   ]
  },
  {
   "cell_type": "code",
   "execution_count": 13,
   "metadata": {},
   "outputs": [
    {
     "data": {
      "text/plain": [
       "'1998-Q1'"
      ]
     },
     "execution_count": 13,
     "metadata": {},
     "output_type": "execute_result"
    }
   ],
   "source": [
    "variable_respuesta.TIME_PERIOD.min() # 1998, cuartil 1, VALOR MINIMO EN TIEMPO"
   ]
  },
  {
   "cell_type": "code",
   "execution_count": 14,
   "metadata": {},
   "outputs": [
    {
     "data": {
      "text/plain": [
       "POP     1649386\n",
       "INAC    1560232\n",
       "ACT     1547525\n",
       "EMP     1532202\n",
       "UNE     1273314\n",
       "UNK         475\n",
       "Name: wstatus, dtype: int64"
      ]
     },
     "execution_count": 14,
     "metadata": {},
     "output_type": "execute_result"
    }
   ],
   "source": [
    "variable_respuesta.wstatus.value_counts()"
   ]
  },
  {
   "cell_type": "markdown",
   "metadata": {},
   "source": [
    "A pesar de que los datos aparecen desagregados a varios niveles, tomaremos la tasa de actividad para ciudadanos extranjeros citizen [FOR], considerando toda la población (la suma de todas las clases de edad) y sólo la población activa wstatus [ACT] para cada país de residencia geo [todas las categorías] y para cada clase de sexo [F, M] por separado.\n",
    "TENEMOS QUE METER FILTROS.  Tambien hay que cambiar la fecha a date time y agrupar por año"
   ]
  },
  {
   "cell_type": "code",
   "execution_count": 15,
   "metadata": {},
   "outputs": [
    {
     "name": "stdout",
     "output_type": "stream",
     "text": [
      "Collecting gdeltdoc\n",
      "  Downloading gdeltdoc-1.5.0-py3-none-any.whl.metadata (5.9 kB)\n",
      "Requirement already satisfied: pandas>=1.1.4 in c:\\users\\picar\\appdata\\local\\programs\\python\\python39\\lib\\site-packages (from gdeltdoc) (1.5.1)\n",
      "Requirement already satisfied: requests>=2.25.1 in c:\\users\\picar\\appdata\\local\\programs\\python\\python39\\lib\\site-packages (from gdeltdoc) (2.31.0)\n",
      "Requirement already satisfied: python-dateutil>=2.8.1 in c:\\users\\picar\\appdata\\roaming\\python\\python39\\site-packages (from pandas>=1.1.4->gdeltdoc) (2.8.2)\n",
      "Requirement already satisfied: pytz>=2020.1 in c:\\users\\picar\\appdata\\local\\programs\\python\\python39\\lib\\site-packages (from pandas>=1.1.4->gdeltdoc) (2023.3.post1)\n",
      "Requirement already satisfied: numpy>=1.20.3 in c:\\users\\picar\\appdata\\local\\programs\\python\\python39\\lib\\site-packages (from pandas>=1.1.4->gdeltdoc) (1.26.1)\n",
      "Requirement already satisfied: charset-normalizer<4,>=2 in c:\\users\\picar\\appdata\\local\\programs\\python\\python39\\lib\\site-packages (from requests>=2.25.1->gdeltdoc) (3.3.2)\n",
      "Requirement already satisfied: idna<4,>=2.5 in c:\\users\\picar\\appdata\\local\\programs\\python\\python39\\lib\\site-packages (from requests>=2.25.1->gdeltdoc) (3.4)\n",
      "Requirement already satisfied: urllib3<3,>=1.21.1 in c:\\users\\picar\\appdata\\local\\programs\\python\\python39\\lib\\site-packages (from requests>=2.25.1->gdeltdoc) (2.1.0)\n",
      "Requirement already satisfied: certifi>=2017.4.17 in c:\\users\\picar\\appdata\\local\\programs\\python\\python39\\lib\\site-packages (from requests>=2.25.1->gdeltdoc) (2023.11.17)\n",
      "Requirement already satisfied: six>=1.5 in c:\\users\\picar\\appdata\\roaming\\python\\python39\\site-packages (from python-dateutil>=2.8.1->pandas>=1.1.4->gdeltdoc) (1.16.0)\n",
      "Downloading gdeltdoc-1.5.0-py3-none-any.whl (13 kB)\n",
      "Installing collected packages: gdeltdoc\n",
      "Successfully installed gdeltdoc-1.5.0\n"
     ]
    },
    {
     "name": "stderr",
     "output_type": "stream",
     "text": [
      "\n",
      "[notice] A new release of pip is available: 23.3.1 -> 24.0\n",
      "[notice] To update, run: python.exe -m pip install --upgrade pip\n"
     ]
    }
   ],
   "source": [
    "# PRUEBA GDELTDOC, EJEMPLO MUY SENCILLO!!! \n",
    "!pip install gdeltdoc"
   ]
  },
  {
   "cell_type": "code",
   "execution_count": 17,
   "metadata": {},
   "outputs": [],
   "source": [
    "from gdeltdoc import GdeltDoc, Filters\n",
    "f = Filters(\n",
    "    keyword=\"climate change\",\n",
    "    start_date=\"2020-05-10\",\n",
    "    end_date=\"2020-05-11\"\n",
    ")"
   ]
  },
  {
   "cell_type": "code",
   "execution_count": 19,
   "metadata": {},
   "outputs": [],
   "source": [
    "gd = GdeltDoc()\n",
    "articles = gd.article_search(f)\n",
    "df = pd.DataFrame(articles)"
   ]
  },
  {
   "cell_type": "code",
   "execution_count": 22,
   "metadata": {},
   "outputs": [
    {
     "data": {
      "text/html": [
       "<div>\n",
       "<style scoped>\n",
       "    .dataframe tbody tr th:only-of-type {\n",
       "        vertical-align: middle;\n",
       "    }\n",
       "\n",
       "    .dataframe tbody tr th {\n",
       "        vertical-align: top;\n",
       "    }\n",
       "\n",
       "    .dataframe thead th {\n",
       "        text-align: right;\n",
       "    }\n",
       "</style>\n",
       "<table border=\"1\" class=\"dataframe\">\n",
       "  <thead>\n",
       "    <tr style=\"text-align: right;\">\n",
       "      <th></th>\n",
       "      <th>url</th>\n",
       "      <th>url_mobile</th>\n",
       "      <th>title</th>\n",
       "      <th>seendate</th>\n",
       "      <th>socialimage</th>\n",
       "      <th>domain</th>\n",
       "      <th>language</th>\n",
       "      <th>sourcecountry</th>\n",
       "    </tr>\n",
       "  </thead>\n",
       "  <tbody>\n",
       "    <tr>\n",
       "      <th>0</th>\n",
       "      <td>https://www.sueddeutsche.de/wissen/corona-klim...</td>\n",
       "      <td>https://www.sueddeutsche.de/wissen/corona-klim...</td>\n",
       "      <td>Trotzt Corona : Mehrheit für kon­se­quenten Kl...</td>\n",
       "      <td>20200510T190000Z</td>\n",
       "      <td>https://www.sueddeutsche.de/image/sz.1.4902342...</td>\n",
       "      <td>sueddeutsche.de</td>\n",
       "      <td>German</td>\n",
       "      <td>Germany</td>\n",
       "    </tr>\n",
       "    <tr>\n",
       "      <th>1</th>\n",
       "      <td>https://saudigazette.com.sa/article/592941/Wor...</td>\n",
       "      <td></td>\n",
       "      <td>Virus should be a wake - up call to every gove...</td>\n",
       "      <td>20200510T201500Z</td>\n",
       "      <td>https://saudigazette.com.sa/uploads/images/202...</td>\n",
       "      <td>saudigazette.com.sa</td>\n",
       "      <td>English</td>\n",
       "      <td>Saudi Arabia</td>\n",
       "    </tr>\n",
       "    <tr>\n",
       "      <th>2</th>\n",
       "      <td>https://laverdadnoticias.com/ecologia/Covid-19...</td>\n",
       "      <td>https://laverdadnoticias.com/amp/ecologia/Covi...</td>\n",
       "      <td>Covid - 19 : La disminución de contaminación e...</td>\n",
       "      <td>20200510T210000Z</td>\n",
       "      <td>https://laverdadnoticias.com/__export/15891399...</td>\n",
       "      <td>laverdadnoticias.com</td>\n",
       "      <td>Spanish</td>\n",
       "      <td>Mexico</td>\n",
       "    </tr>\n",
       "    <tr>\n",
       "      <th>3</th>\n",
       "      <td>http://www.busan.com/view/busan/view.php?code=...</td>\n",
       "      <td></td>\n",
       "      <td>생태계 교란종  등검은말벌  급속 확산 … 꿀벌 다 죽인다</td>\n",
       "      <td>20200510T170000Z</td>\n",
       "      <td>http://www.busan.com/nas/wcms/wcms_data/photos...</td>\n",
       "      <td>busan.com</td>\n",
       "      <td>Korean</td>\n",
       "      <td>South Korea</td>\n",
       "    </tr>\n",
       "    <tr>\n",
       "      <th>4</th>\n",
       "      <td>https://www.albayan.ae/across-the-uae/news-and...</td>\n",
       "      <td>https://www.albayan.ae/across-the-uae/news-and...</td>\n",
       "      <td>كورونا نقطة تحول فاصلة في تاريخ البشرية</td>\n",
       "      <td>20200510T161500Z</td>\n",
       "      <td>https://www.albayan.ae/polopoly_fs/1.3855034.1...</td>\n",
       "      <td>albayan.ae</td>\n",
       "      <td>Arabic</td>\n",
       "      <td>United Arab Emirates</td>\n",
       "    </tr>\n",
       "    <tr>\n",
       "      <th>...</th>\n",
       "      <td>...</td>\n",
       "      <td>...</td>\n",
       "      <td>...</td>\n",
       "      <td>...</td>\n",
       "      <td>...</td>\n",
       "      <td>...</td>\n",
       "      <td>...</td>\n",
       "      <td>...</td>\n",
       "    </tr>\n",
       "    <tr>\n",
       "      <th>245</th>\n",
       "      <td>https://www.bnnbloomberg.ca/europe-envoys-defe...</td>\n",
       "      <td></td>\n",
       "      <td>Europe Envoys Defend Decision to Let China Med...</td>\n",
       "      <td>20200510T004500Z</td>\n",
       "      <td></td>\n",
       "      <td>bnnbloomberg.ca</td>\n",
       "      <td>English</td>\n",
       "      <td>Canada</td>\n",
       "    </tr>\n",
       "    <tr>\n",
       "      <th>246</th>\n",
       "      <td>https://globalnews.ca/news/6920842/ticks-lyme-...</td>\n",
       "      <td>https://globalnews.ca/news/6920842/ticks-lyme-...</td>\n",
       "      <td>More ticks and more Lyme disease in Canada fut...</td>\n",
       "      <td>20200510T110000Z</td>\n",
       "      <td>https://shawglobalnews.files.wordpress.com/202...</td>\n",
       "      <td>globalnews.ca</td>\n",
       "      <td>English</td>\n",
       "      <td>Canada</td>\n",
       "    </tr>\n",
       "    <tr>\n",
       "      <th>247</th>\n",
       "      <td>https://theconversation.com/coronavirus-shows-...</td>\n",
       "      <td>https://theconversation.com/amp/coronavirus-sh...</td>\n",
       "      <td>Coronavirus shows housing costs leave many ins...</td>\n",
       "      <td>20200510T231500Z</td>\n",
       "      <td>https://images.theconversation.com/files/33356...</td>\n",
       "      <td>theconversation.com</td>\n",
       "      <td>English</td>\n",
       "      <td>Australia</td>\n",
       "    </tr>\n",
       "    <tr>\n",
       "      <th>248</th>\n",
       "      <td>https://www.infolibre.es/noticias/economia/202...</td>\n",
       "      <td></td>\n",
       "      <td>La receta para superar la crisis : reinventar ...</td>\n",
       "      <td>20200510T053000Z</td>\n",
       "      <td>https://d3cra5ec8gdi8w.cloudfront.net/uploads/...</td>\n",
       "      <td>infolibre.es</td>\n",
       "      <td>Spanish</td>\n",
       "      <td>Spain</td>\n",
       "    </tr>\n",
       "    <tr>\n",
       "      <th>249</th>\n",
       "      <td>https://www.diariovasco.com/sociedad/ciencia/n...</td>\n",
       "      <td>https://www.diariovasco.com/sociedad/ciencia/n...</td>\n",
       "      <td>La pérdida de nieve en el Tibet favorece la ex...</td>\n",
       "      <td>20200510T091500Z</td>\n",
       "      <td>https://static1.diariovasco.com/www/multimedia...</td>\n",
       "      <td>diariovasco.com</td>\n",
       "      <td>Spanish</td>\n",
       "      <td>Spain</td>\n",
       "    </tr>\n",
       "  </tbody>\n",
       "</table>\n",
       "<p>250 rows × 8 columns</p>\n",
       "</div>"
      ],
      "text/plain": [
       "                                                   url  \\\n",
       "0    https://www.sueddeutsche.de/wissen/corona-klim...   \n",
       "1    https://saudigazette.com.sa/article/592941/Wor...   \n",
       "2    https://laverdadnoticias.com/ecologia/Covid-19...   \n",
       "3    http://www.busan.com/view/busan/view.php?code=...   \n",
       "4    https://www.albayan.ae/across-the-uae/news-and...   \n",
       "..                                                 ...   \n",
       "245  https://www.bnnbloomberg.ca/europe-envoys-defe...   \n",
       "246  https://globalnews.ca/news/6920842/ticks-lyme-...   \n",
       "247  https://theconversation.com/coronavirus-shows-...   \n",
       "248  https://www.infolibre.es/noticias/economia/202...   \n",
       "249  https://www.diariovasco.com/sociedad/ciencia/n...   \n",
       "\n",
       "                                            url_mobile  \\\n",
       "0    https://www.sueddeutsche.de/wissen/corona-klim...   \n",
       "1                                                        \n",
       "2    https://laverdadnoticias.com/amp/ecologia/Covi...   \n",
       "3                                                        \n",
       "4    https://www.albayan.ae/across-the-uae/news-and...   \n",
       "..                                                 ...   \n",
       "245                                                      \n",
       "246  https://globalnews.ca/news/6920842/ticks-lyme-...   \n",
       "247  https://theconversation.com/amp/coronavirus-sh...   \n",
       "248                                                      \n",
       "249  https://www.diariovasco.com/sociedad/ciencia/n...   \n",
       "\n",
       "                                                 title          seendate  \\\n",
       "0    Trotzt Corona : Mehrheit für kon­se­quenten Kl...  20200510T190000Z   \n",
       "1    Virus should be a wake - up call to every gove...  20200510T201500Z   \n",
       "2    Covid - 19 : La disminución de contaminación e...  20200510T210000Z   \n",
       "3                     생태계 교란종  등검은말벌  급속 확산 … 꿀벌 다 죽인다  20200510T170000Z   \n",
       "4              كورونا نقطة تحول فاصلة في تاريخ البشرية  20200510T161500Z   \n",
       "..                                                 ...               ...   \n",
       "245  Europe Envoys Defend Decision to Let China Med...  20200510T004500Z   \n",
       "246  More ticks and more Lyme disease in Canada fut...  20200510T110000Z   \n",
       "247  Coronavirus shows housing costs leave many ins...  20200510T231500Z   \n",
       "248  La receta para superar la crisis : reinventar ...  20200510T053000Z   \n",
       "249  La pérdida de nieve en el Tibet favorece la ex...  20200510T091500Z   \n",
       "\n",
       "                                           socialimage                domain  \\\n",
       "0    https://www.sueddeutsche.de/image/sz.1.4902342...       sueddeutsche.de   \n",
       "1    https://saudigazette.com.sa/uploads/images/202...   saudigazette.com.sa   \n",
       "2    https://laverdadnoticias.com/__export/15891399...  laverdadnoticias.com   \n",
       "3    http://www.busan.com/nas/wcms/wcms_data/photos...             busan.com   \n",
       "4    https://www.albayan.ae/polopoly_fs/1.3855034.1...            albayan.ae   \n",
       "..                                                 ...                   ...   \n",
       "245                                                          bnnbloomberg.ca   \n",
       "246  https://shawglobalnews.files.wordpress.com/202...         globalnews.ca   \n",
       "247  https://images.theconversation.com/files/33356...   theconversation.com   \n",
       "248  https://d3cra5ec8gdi8w.cloudfront.net/uploads/...          infolibre.es   \n",
       "249  https://static1.diariovasco.com/www/multimedia...       diariovasco.com   \n",
       "\n",
       "    language         sourcecountry  \n",
       "0     German               Germany  \n",
       "1    English          Saudi Arabia  \n",
       "2    Spanish                Mexico  \n",
       "3     Korean           South Korea  \n",
       "4     Arabic  United Arab Emirates  \n",
       "..       ...                   ...  \n",
       "245  English                Canada  \n",
       "246  English                Canada  \n",
       "247  English             Australia  \n",
       "248  Spanish                 Spain  \n",
       "249  Spanish                 Spain  \n",
       "\n",
       "[250 rows x 8 columns]"
      ]
     },
     "execution_count": 22,
     "metadata": {},
     "output_type": "execute_result"
    }
   ],
   "source": [
    "# vamos a visualizar este ejemplo y que tipo de dataframe nos da\n",
    "df"
   ]
  },
  {
   "cell_type": "code",
   "execution_count": 24,
   "metadata": {},
   "outputs": [
    {
     "data": {
      "text/html": [
       "<div>\n",
       "<style scoped>\n",
       "    .dataframe tbody tr th:only-of-type {\n",
       "        vertical-align: middle;\n",
       "    }\n",
       "\n",
       "    .dataframe tbody tr th {\n",
       "        vertical-align: top;\n",
       "    }\n",
       "\n",
       "    .dataframe thead th {\n",
       "        text-align: right;\n",
       "    }\n",
       "</style>\n",
       "<table border=\"1\" class=\"dataframe\">\n",
       "  <thead>\n",
       "    <tr style=\"text-align: right;\">\n",
       "      <th></th>\n",
       "      <th>datetime</th>\n",
       "      <th>Average Tone</th>\n",
       "    </tr>\n",
       "  </thead>\n",
       "  <tbody>\n",
       "    <tr>\n",
       "      <th>0</th>\n",
       "      <td>2020-05-10 00:00:00+00:00</td>\n",
       "      <td>-3.2793</td>\n",
       "    </tr>\n",
       "    <tr>\n",
       "      <th>1</th>\n",
       "      <td>2020-05-10 00:15:00+00:00</td>\n",
       "      <td>-1.6852</td>\n",
       "    </tr>\n",
       "    <tr>\n",
       "      <th>2</th>\n",
       "      <td>2020-05-10 00:30:00+00:00</td>\n",
       "      <td>0.3103</td>\n",
       "    </tr>\n",
       "    <tr>\n",
       "      <th>3</th>\n",
       "      <td>2020-05-10 00:45:00+00:00</td>\n",
       "      <td>-0.8980</td>\n",
       "    </tr>\n",
       "    <tr>\n",
       "      <th>4</th>\n",
       "      <td>2020-05-10 01:00:00+00:00</td>\n",
       "      <td>-1.8854</td>\n",
       "    </tr>\n",
       "    <tr>\n",
       "      <th>...</th>\n",
       "      <td>...</td>\n",
       "      <td>...</td>\n",
       "    </tr>\n",
       "    <tr>\n",
       "      <th>92</th>\n",
       "      <td>2020-05-10 23:00:00+00:00</td>\n",
       "      <td>-1.8009</td>\n",
       "    </tr>\n",
       "    <tr>\n",
       "      <th>93</th>\n",
       "      <td>2020-05-10 23:15:00+00:00</td>\n",
       "      <td>-1.0261</td>\n",
       "    </tr>\n",
       "    <tr>\n",
       "      <th>94</th>\n",
       "      <td>2020-05-10 23:30:00+00:00</td>\n",
       "      <td>-1.2010</td>\n",
       "    </tr>\n",
       "    <tr>\n",
       "      <th>95</th>\n",
       "      <td>2020-05-10 23:45:00+00:00</td>\n",
       "      <td>-1.7848</td>\n",
       "    </tr>\n",
       "    <tr>\n",
       "      <th>96</th>\n",
       "      <td>2020-05-11 00:00:00+00:00</td>\n",
       "      <td>0.3741</td>\n",
       "    </tr>\n",
       "  </tbody>\n",
       "</table>\n",
       "<p>97 rows × 2 columns</p>\n",
       "</div>"
      ],
      "text/plain": [
       "                    datetime  Average Tone\n",
       "0  2020-05-10 00:00:00+00:00       -3.2793\n",
       "1  2020-05-10 00:15:00+00:00       -1.6852\n",
       "2  2020-05-10 00:30:00+00:00        0.3103\n",
       "3  2020-05-10 00:45:00+00:00       -0.8980\n",
       "4  2020-05-10 01:00:00+00:00       -1.8854\n",
       "..                       ...           ...\n",
       "92 2020-05-10 23:00:00+00:00       -1.8009\n",
       "93 2020-05-10 23:15:00+00:00       -1.0261\n",
       "94 2020-05-10 23:30:00+00:00       -1.2010\n",
       "95 2020-05-10 23:45:00+00:00       -1.7848\n",
       "96 2020-05-11 00:00:00+00:00        0.3741\n",
       "\n",
       "[97 rows x 2 columns]"
      ]
     },
     "execution_count": 24,
     "metadata": {},
     "output_type": "execute_result"
    }
   ],
   "source": [
    "# para analizar el tono\n",
    "tone_results = gd.timeline_search(\"timelinetone\", f)\n",
    "tone_results\n",
    "# significado, LOS NEGATIVOS TIENEN TONOS NEGATIVOS, LOS POSITIVOS POSITIVOS Y LOS CERCANOS A CERO NEUTROS"
   ]
  },
  {
   "cell_type": "code",
   "execution_count": 26,
   "metadata": {},
   "outputs": [
    {
     "data": {
      "text/html": [
       "<div>\n",
       "<style scoped>\n",
       "    .dataframe tbody tr th:only-of-type {\n",
       "        vertical-align: middle;\n",
       "    }\n",
       "\n",
       "    .dataframe tbody tr th {\n",
       "        vertical-align: top;\n",
       "    }\n",
       "\n",
       "    .dataframe thead th {\n",
       "        text-align: right;\n",
       "    }\n",
       "</style>\n",
       "<table border=\"1\" class=\"dataframe\">\n",
       "  <thead>\n",
       "    <tr style=\"text-align: right;\">\n",
       "      <th></th>\n",
       "      <th>datetime</th>\n",
       "      <th>Volume Intensity</th>\n",
       "    </tr>\n",
       "  </thead>\n",
       "  <tbody>\n",
       "    <tr>\n",
       "      <th>0</th>\n",
       "      <td>2020-05-10 00:00:00+00:00</td>\n",
       "      <td>0.1839</td>\n",
       "    </tr>\n",
       "    <tr>\n",
       "      <th>1</th>\n",
       "      <td>2020-05-10 00:15:00+00:00</td>\n",
       "      <td>0.4375</td>\n",
       "    </tr>\n",
       "    <tr>\n",
       "      <th>2</th>\n",
       "      <td>2020-05-10 00:30:00+00:00</td>\n",
       "      <td>0.1273</td>\n",
       "    </tr>\n",
       "    <tr>\n",
       "      <th>3</th>\n",
       "      <td>2020-05-10 00:45:00+00:00</td>\n",
       "      <td>0.6582</td>\n",
       "    </tr>\n",
       "    <tr>\n",
       "      <th>4</th>\n",
       "      <td>2020-05-10 01:00:00+00:00</td>\n",
       "      <td>0.5048</td>\n",
       "    </tr>\n",
       "    <tr>\n",
       "      <th>...</th>\n",
       "      <td>...</td>\n",
       "      <td>...</td>\n",
       "    </tr>\n",
       "    <tr>\n",
       "      <th>92</th>\n",
       "      <td>2020-05-10 23:00:00+00:00</td>\n",
       "      <td>0.5805</td>\n",
       "    </tr>\n",
       "    <tr>\n",
       "      <th>93</th>\n",
       "      <td>2020-05-10 23:15:00+00:00</td>\n",
       "      <td>0.2661</td>\n",
       "    </tr>\n",
       "    <tr>\n",
       "      <th>94</th>\n",
       "      <td>2020-05-10 23:30:00+00:00</td>\n",
       "      <td>0.6459</td>\n",
       "    </tr>\n",
       "    <tr>\n",
       "      <th>95</th>\n",
       "      <td>2020-05-10 23:45:00+00:00</td>\n",
       "      <td>0.4957</td>\n",
       "    </tr>\n",
       "    <tr>\n",
       "      <th>96</th>\n",
       "      <td>2020-05-11 00:00:00+00:00</td>\n",
       "      <td>0.2811</td>\n",
       "    </tr>\n",
       "  </tbody>\n",
       "</table>\n",
       "<p>97 rows × 2 columns</p>\n",
       "</div>"
      ],
      "text/plain": [
       "                    datetime  Volume Intensity\n",
       "0  2020-05-10 00:00:00+00:00            0.1839\n",
       "1  2020-05-10 00:15:00+00:00            0.4375\n",
       "2  2020-05-10 00:30:00+00:00            0.1273\n",
       "3  2020-05-10 00:45:00+00:00            0.6582\n",
       "4  2020-05-10 01:00:00+00:00            0.5048\n",
       "..                       ...               ...\n",
       "92 2020-05-10 23:00:00+00:00            0.5805\n",
       "93 2020-05-10 23:15:00+00:00            0.2661\n",
       "94 2020-05-10 23:30:00+00:00            0.6459\n",
       "95 2020-05-10 23:45:00+00:00            0.4957\n",
       "96 2020-05-11 00:00:00+00:00            0.2811\n",
       "\n",
       "[97 rows x 2 columns]"
      ]
     },
     "execution_count": 26,
     "metadata": {},
     "output_type": "execute_result"
    }
   ],
   "source": [
    "# y para la popularidad\n",
    "popularity_results = gd.timeline_search(\"timelinevol\", f)\n",
    "popularity_results \n"
   ]
  },
  {
   "cell_type": "markdown",
   "metadata": {},
   "source": [
    "Popularidad:\n",
    "La popularidad mide la cantidad de menciones o cobertura de un tema en los artículos.\n",
    "En nuestra tabla, los valores en la columna “Volume Intensity” representan la popularidad relativa de los artículos en un intervalo de tiempo específico.\n",
    "Estos valores son proporcionales dentro del conjunto de artículos monitoreados por GDELT.\n",
    "Rango de Popularidad:\n",
    "Los valores en la columna “Volume Intensity” pueden variar entre 0 y 1.\n",
    "Un valor de 0.1839 significa que, en ese intervalo de tiempo, los artículos relacionados con el tema tenían una popularidad relativa del 18.39% en comparación con el total de artículos monitoreados."
   ]
  },
  {
   "cell_type": "code",
   "execution_count": 28,
   "metadata": {},
   "outputs": [],
   "source": [
    "# OJO, TENEMOS QUE REVISAR LOS FILTROS QUE SE NOS PIDIO, QUE TENGA MAS DE 500 PALABRAS, \n",
    "# QUE TENGAN 3 DE NUESTRS TOPICS AUN POR DEFINIR EXACTAMENTE EN LOS ARTICULOS,\n",
    "# tambien surgen dudas de lo de normalizarlos luego (¿¿solo entre los articulos seleccionados??)\n"
   ]
  },
  {
   "cell_type": "code",
   "execution_count": 1,
   "metadata": {},
   "outputs": [
    {
     "name": "stdout",
     "output_type": "stream",
     "text": [
      "Requirement already satisfied: pytrends in c:\\users\\picar\\appdata\\local\\programs\\python\\python39\\lib\\site-packages (4.9.2)\n",
      "Requirement already satisfied: requests>=2.0 in c:\\users\\picar\\appdata\\local\\programs\\python\\python39\\lib\\site-packages (from pytrends) (2.31.0)\n",
      "Requirement already satisfied: pandas>=0.25 in c:\\users\\picar\\appdata\\local\\programs\\python\\python39\\lib\\site-packages (from pytrends) (1.5.1)\n",
      "Requirement already satisfied: lxml in c:\\users\\picar\\appdata\\local\\programs\\python\\python39\\lib\\site-packages (from pytrends) (5.1.0)\n",
      "Requirement already satisfied: python-dateutil>=2.8.1 in c:\\users\\picar\\appdata\\roaming\\python\\python39\\site-packages (from pandas>=0.25->pytrends) (2.8.2)\n",
      "Requirement already satisfied: pytz>=2020.1 in c:\\users\\picar\\appdata\\local\\programs\\python\\python39\\lib\\site-packages (from pandas>=0.25->pytrends) (2023.3.post1)\n",
      "Requirement already satisfied: numpy>=1.20.3 in c:\\users\\picar\\appdata\\local\\programs\\python\\python39\\lib\\site-packages (from pandas>=0.25->pytrends) (1.26.1)\n",
      "Requirement already satisfied: charset-normalizer<4,>=2 in c:\\users\\picar\\appdata\\local\\programs\\python\\python39\\lib\\site-packages (from requests>=2.0->pytrends) (3.3.2)\n",
      "Requirement already satisfied: idna<4,>=2.5 in c:\\users\\picar\\appdata\\local\\programs\\python\\python39\\lib\\site-packages (from requests>=2.0->pytrends) (3.4)\n",
      "Requirement already satisfied: urllib3<3,>=1.21.1 in c:\\users\\picar\\appdata\\local\\programs\\python\\python39\\lib\\site-packages (from requests>=2.0->pytrends) (2.1.0)\n",
      "Requirement already satisfied: certifi>=2017.4.17 in c:\\users\\picar\\appdata\\local\\programs\\python\\python39\\lib\\site-packages (from requests>=2.0->pytrends) (2023.11.17)\n",
      "Requirement already satisfied: six>=1.5 in c:\\users\\picar\\appdata\\roaming\\python\\python39\\site-packages (from python-dateutil>=2.8.1->pandas>=0.25->pytrends) (1.16.0)\n"
     ]
    },
    {
     "name": "stderr",
     "output_type": "stream",
     "text": [
      "\n",
      "[notice] A new release of pip is available: 23.3.1 -> 24.0\n",
      "[notice] To update, run: python.exe -m pip install --upgrade pip\n"
     ]
    }
   ],
   "source": [
    "# y prueba con google trends\n",
    "!pip install pytrends"
   ]
  },
  {
   "cell_type": "code",
   "execution_count": 4,
   "metadata": {},
   "outputs": [
    {
     "name": "stdout",
     "output_type": "stream",
     "text": [
      "[{'mid': '/m/011x5vx5', 'title': 'Labour Market Regulatory Authority', 'type': 'Governing body'}, {'mid': '/g/11j775y04_', 'title': 'Labour Market Impact Assessment', 'type': 'Topic'}, {'mid': '/g/121v2c3t', 'title': 'labour market subsidy', 'type': 'Topic'}, {'mid': '/g/12bpb3230', 'title': 'International Human Resource Management', 'type': 'Book'}, {'mid': '/g/1n36gmq6p', 'title': 'labour market contribution (Denmark)', 'type': 'Topic'}]\n"
     ]
    }
   ],
   "source": [
    "# PARA BUSCAR LOS TOPICS ID\n",
    "from pytrends.request import TrendReq\n",
    "pytrends = TrendReq(hl='en-US', tz=360)\n",
    "suggs = pytrends.suggestions(\"Labour Market\")\n",
    "print(suggs)\n"
   ]
  },
  {
   "cell_type": "code",
   "execution_count": 5,
   "metadata": {},
   "outputs": [
    {
     "data": {
      "text/plain": [
       "[{'mid': '/m/011x5vx5',\n",
       "  'title': 'Labour Market Regulatory Authority',\n",
       "  'type': 'Governing body'},\n",
       " {'mid': '/g/11j775y04_',\n",
       "  'title': 'Labour Market Impact Assessment',\n",
       "  'type': 'Topic'},\n",
       " {'mid': '/g/121v2c3t', 'title': 'labour market subsidy', 'type': 'Topic'},\n",
       " {'mid': '/g/12bpb3230',\n",
       "  'title': 'International Human Resource Management',\n",
       "  'type': 'Book'},\n",
       " {'mid': '/g/1n36gmq6p',\n",
       "  'title': 'labour market contribution (Denmark)',\n",
       "  'type': 'Topic'}]"
      ]
     },
     "execution_count": 5,
     "metadata": {},
     "output_type": "execute_result"
    }
   ],
   "source": [
    "suggs # topics dentro de labour market"
   ]
  },
  {
   "cell_type": "code",
   "execution_count": 7,
   "metadata": {},
   "outputs": [
    {
     "data": {
      "text/plain": [
       "[{'mid': '/g/12bm4cc9t',\n",
       "  'title': \"On My Own Two Feet: A Modern Girl's Guide to Personal Finance\",\n",
       "  'type': 'Book by Manisha Thakor and Sharon Kedar'},\n",
       " {'mid': '/g/11gh2w4wc1',\n",
       "  'title': 'Personal Finance in Your 20s and 30s For Dummies',\n",
       "  'type': 'Book by Eric Tyson'},\n",
       " {'mid': '/g/11cmck_43n',\n",
       "  'title': 'Discount Finance & Personal Credit Loans Mission',\n",
       "  'type': 'Topic'},\n",
       " {'mid': '/g/11f3hdstcp',\n",
       "  'title': 'Suze Orman: For the Young, Fabulous & Broke',\n",
       "  'type': 'Topic'},\n",
       " {'mid': '/g/11lcc9mdt7',\n",
       "  'title': 'Personal Finance for Teens and Young Adults: Financial Literacy Skills To Empower Your Future, Crush Your Debt & Build Smart Money Habits That Instill Lifelong Confidence',\n",
       "  'type': 'Topic'}]"
      ]
     },
     "execution_count": 7,
     "metadata": {},
     "output_type": "execute_result"
    }
   ],
   "source": [
    "from pytrends.request import TrendReq\n",
    "pytrends = TrendReq(hl='en-US', tz=360)\n",
    "suggs = pytrends.suggestions(\"Credit, Loans & Personal Finance\")\n",
    "suggs\n",
    "# NO ME SALEN LOS MISMOS QUE NOS DIERON, PORQUE SUGGESTION TE RECOMIENDA TOPICS PERO NO SON TODOS LOS TOPICS\n"
   ]
  },
  {
   "cell_type": "code",
   "execution_count": 8,
   "metadata": {},
   "outputs": [
    {
     "data": {
      "text/plain": [
       "[{'mid': '/m/011x5vx5',\n",
       "  'title': 'Labour Market Regulatory Authority',\n",
       "  'type': 'Governing body'},\n",
       " {'mid': '/g/11j775y04_',\n",
       "  'title': 'Labour Market Impact Assessment',\n",
       "  'type': 'Topic'},\n",
       " {'mid': '/g/121v2c3t', 'title': 'labour market subsidy', 'type': 'Topic'},\n",
       " {'mid': '/g/12bpb3230',\n",
       "  'title': 'International Human Resource Management',\n",
       "  'type': 'Book'},\n",
       " {'mid': '/g/1n36gmq6p',\n",
       "  'title': 'labour market contribution (Denmark)',\n",
       "  'type': 'Topic'}]"
      ]
     },
     "execution_count": 8,
     "metadata": {},
     "output_type": "execute_result"
    }
   ],
   "source": [
    "from pytrends.request import TrendReq\n",
    "pytrend = TrendReq()\n",
    "topics_data = pytrend.suggestions(keyword='Labour Market') # PARA METERNOS EN LABOUR MARKET\n",
    "topics_data # SIGUEN SALIENDOME OTROS"
   ]
  },
  {
   "cell_type": "code",
   "execution_count": 9,
   "metadata": {},
   "outputs": [
    {
     "data": {
      "text/plain": [
       "[{'mid': '/m/0218w7', 'title': 'Unemployment benefits', 'type': 'Topic'},\n",
       " {'mid': '/g/11j5_zdslp',\n",
       "  'title': 'Unemployment benefits in New Jersey',\n",
       "  'type': 'Topic'},\n",
       " {'mid': '/g/11jg4j171x',\n",
       "  'title': 'Unemployment benefits in Ohio',\n",
       "  'type': 'Topic'},\n",
       " {'mid': '/g/11jg4s451x',\n",
       "  'title': 'Unemployment benefits in New York',\n",
       "  'type': 'Topic'},\n",
       " {'mid': '/g/11jg4ldpyf',\n",
       "  'title': 'Unemployment benefits in Texas',\n",
       "  'type': 'Topic'}]"
      ]
     },
     "execution_count": 9,
     "metadata": {},
     "output_type": "execute_result"
    }
   ],
   "source": [
    "# PROBAREMOS CON LOS TOPICS DIRECTAMENTE\n",
    "from pytrends.request import TrendReq\n",
    "pytrend = TrendReq()\n",
    "\n",
    "# Obtener los topics suggestions para \"Unemployment benefits\"\n",
    "topics_data = pytrend.suggestions(keyword='Unemployment benefits')\n",
    "topics_data # Y ASI PODEMOS ACCEDER A LOS TOPICS EN INDIVIDUAL, COMENTARLO CON RANDBEE\n",
    "# NO PODEMOS ACCEDER A LOS TOPICS CON LAS CATEGORIAS INICIALES (EJEMPLO, INCLUYENDO LABOUR MARKET NO NOS SALEN LOS QUE RANDBEE NOS FACILITARON,\n",
    "# PERO PODEMOS BUSCARLOS DIRECTAMENTE POR SUS NOMBRES."
   ]
  },
  {
   "cell_type": "code",
   "execution_count": 16,
   "metadata": {},
   "outputs": [],
   "source": [
    "from pytrends.request import TrendReq\n",
    "# Configurar TrendReq\n",
    "pytrend = TrendReq()\n",
    "\n",
    "# Especificar palabras clave y otros parámetros\n",
    "keywords = ['/m/0218w7']\n",
    "geo = 'US'  # Cambia según la región geográfica de interés\n",
    "timeframe = 'today'  # Cambia según el período de tiempo de interés\n"
   ]
  },
  {
   "cell_type": "code",
   "execution_count": 17,
   "metadata": {},
   "outputs": [
    {
     "ename": "ResponseError",
     "evalue": "The request failed: Google returned a response with code 400",
     "output_type": "error",
     "traceback": [
      "\u001b[1;31m---------------------------------------------------------------------------\u001b[0m",
      "\u001b[1;31mResponseError\u001b[0m                             Traceback (most recent call last)",
      "Cell \u001b[1;32mIn[17], line 2\u001b[0m\n\u001b[0;32m      1\u001b[0m \u001b[38;5;66;03m# Construir payload de consulta\u001b[39;00m\n\u001b[1;32m----> 2\u001b[0m \u001b[43mpytrend\u001b[49m\u001b[38;5;241;43m.\u001b[39;49m\u001b[43mbuild_payload\u001b[49m\u001b[43m(\u001b[49m\u001b[43mkw_list\u001b[49m\u001b[38;5;241;43m=\u001b[39;49m\u001b[43mkeywords\u001b[49m\u001b[43m,\u001b[49m\u001b[43m \u001b[49m\u001b[43mgeo\u001b[49m\u001b[38;5;241;43m=\u001b[39;49m\u001b[43mgeo\u001b[49m\u001b[43m,\u001b[49m\u001b[43m \u001b[49m\u001b[43mtimeframe\u001b[49m\u001b[38;5;241;43m=\u001b[39;49m\u001b[43mtimeframe\u001b[49m\u001b[43m)\u001b[49m\n\u001b[0;32m      3\u001b[0m \u001b[38;5;66;03m# Obtener datos de búsqueda\u001b[39;00m\n\u001b[0;32m      4\u001b[0m search_data \u001b[38;5;241m=\u001b[39m pytrend\u001b[38;5;241m.\u001b[39minterest_over_time()\n",
      "File \u001b[1;32mc:\\Users\\Picar\\AppData\\Local\\Programs\\Python\\Python39\\lib\\site-packages\\pytrends\\request.py:189\u001b[0m, in \u001b[0;36mTrendReq.build_payload\u001b[1;34m(self, kw_list, cat, timeframe, geo, gprop)\u001b[0m\n\u001b[0;32m    187\u001b[0m \u001b[38;5;28mself\u001b[39m\u001b[38;5;241m.\u001b[39mtoken_payload[\u001b[38;5;124m'\u001b[39m\u001b[38;5;124mreq\u001b[39m\u001b[38;5;124m'\u001b[39m] \u001b[38;5;241m=\u001b[39m json\u001b[38;5;241m.\u001b[39mdumps(\u001b[38;5;28mself\u001b[39m\u001b[38;5;241m.\u001b[39mtoken_payload[\u001b[38;5;124m'\u001b[39m\u001b[38;5;124mreq\u001b[39m\u001b[38;5;124m'\u001b[39m])\n\u001b[0;32m    188\u001b[0m \u001b[38;5;66;03m# get tokens\u001b[39;00m\n\u001b[1;32m--> 189\u001b[0m \u001b[38;5;28;43mself\u001b[39;49m\u001b[38;5;241;43m.\u001b[39;49m\u001b[43m_tokens\u001b[49m\u001b[43m(\u001b[49m\u001b[43m)\u001b[49m\n\u001b[0;32m    190\u001b[0m \u001b[38;5;28;01mreturn\u001b[39;00m\n",
      "File \u001b[1;32mc:\\Users\\Picar\\AppData\\Local\\Programs\\Python\\Python39\\lib\\site-packages\\pytrends\\request.py:195\u001b[0m, in \u001b[0;36mTrendReq._tokens\u001b[1;34m(self)\u001b[0m\n\u001b[0;32m    193\u001b[0m \u001b[38;5;250m\u001b[39m\u001b[38;5;124;03m\"\"\"Makes request to Google to get API tokens for interest over time, interest by region and related queries\"\"\"\u001b[39;00m\n\u001b[0;32m    194\u001b[0m \u001b[38;5;66;03m# make the request and parse the returned json\u001b[39;00m\n\u001b[1;32m--> 195\u001b[0m widget_dicts \u001b[38;5;241m=\u001b[39m \u001b[38;5;28;43mself\u001b[39;49m\u001b[38;5;241;43m.\u001b[39;49m\u001b[43m_get_data\u001b[49m\u001b[43m(\u001b[49m\n\u001b[0;32m    196\u001b[0m \u001b[43m    \u001b[49m\u001b[43murl\u001b[49m\u001b[38;5;241;43m=\u001b[39;49m\u001b[43mTrendReq\u001b[49m\u001b[38;5;241;43m.\u001b[39;49m\u001b[43mGENERAL_URL\u001b[49m\u001b[43m,\u001b[49m\n\u001b[0;32m    197\u001b[0m \u001b[43m    \u001b[49m\u001b[43mmethod\u001b[49m\u001b[38;5;241;43m=\u001b[39;49m\u001b[43mTrendReq\u001b[49m\u001b[38;5;241;43m.\u001b[39;49m\u001b[43mPOST_METHOD\u001b[49m\u001b[43m,\u001b[49m\n\u001b[0;32m    198\u001b[0m \u001b[43m    \u001b[49m\u001b[43mparams\u001b[49m\u001b[38;5;241;43m=\u001b[39;49m\u001b[38;5;28;43mself\u001b[39;49m\u001b[38;5;241;43m.\u001b[39;49m\u001b[43mtoken_payload\u001b[49m\u001b[43m,\u001b[49m\n\u001b[0;32m    199\u001b[0m \u001b[43m    \u001b[49m\u001b[43mtrim_chars\u001b[49m\u001b[38;5;241;43m=\u001b[39;49m\u001b[38;5;241;43m4\u001b[39;49m\u001b[43m,\u001b[49m\n\u001b[0;32m    200\u001b[0m \u001b[43m\u001b[49m\u001b[43m)\u001b[49m[\u001b[38;5;124m'\u001b[39m\u001b[38;5;124mwidgets\u001b[39m\u001b[38;5;124m'\u001b[39m]\n\u001b[0;32m    201\u001b[0m \u001b[38;5;66;03m# order of the json matters...\u001b[39;00m\n\u001b[0;32m    202\u001b[0m first_region_token \u001b[38;5;241m=\u001b[39m \u001b[38;5;28;01mTrue\u001b[39;00m\n",
      "File \u001b[1;32mc:\\Users\\Picar\\AppData\\Local\\Programs\\Python\\Python39\\lib\\site-packages\\pytrends\\request.py:160\u001b[0m, in \u001b[0;36mTrendReq._get_data\u001b[1;34m(self, url, method, trim_chars, **kwargs)\u001b[0m\n\u001b[0;32m    158\u001b[0m \u001b[38;5;28;01mif\u001b[39;00m response\u001b[38;5;241m.\u001b[39mstatus_code \u001b[38;5;241m==\u001b[39m status_codes\u001b[38;5;241m.\u001b[39mcodes\u001b[38;5;241m.\u001b[39mtoo_many_requests:\n\u001b[0;32m    159\u001b[0m     \u001b[38;5;28;01mraise\u001b[39;00m exceptions\u001b[38;5;241m.\u001b[39mTooManyRequestsError\u001b[38;5;241m.\u001b[39mfrom_response(response)\n\u001b[1;32m--> 160\u001b[0m \u001b[38;5;28;01mraise\u001b[39;00m exceptions\u001b[38;5;241m.\u001b[39mResponseError\u001b[38;5;241m.\u001b[39mfrom_response(response)\n",
      "\u001b[1;31mResponseError\u001b[0m: The request failed: Google returned a response with code 400"
     ]
    }
   ],
   "source": [
    "# Construir payload de consulta\n",
    "pytrend.build_payload(kw_list=keywords, geo=geo, timeframe=timeframe)\n",
    "# Obtener datos de búsqueda\n",
    "search_data = pytrend.interest_over_time()\n",
    "# da error, porque son muchas solicitudes en poco tiempo\n",
    "\n"
   ]
  },
  {
   "cell_type": "code",
   "execution_count": 13,
   "metadata": {},
   "outputs": [],
   "source": [
    "# BUSCAMOS UNA FORMA DE MANEJAR ESTE ERROR, CON BATCH Y LA BIBLIOTECA TIME, PUES ES UN ERROR RELACIONADO CON HACER DEMASIADAS CONSULTAS EN POCO TIEMPO\n",
    "import time\n",
    "from pytrends.request import TrendReq\n",
    "\n",
    "pytrends = TrendReq()\n",
    "\n",
    "keywords = ['Unemployment benefits']\n",
    "batch_size = 3\n",
    "\n",
    "for i in range(0, len(keywords), batch_size):\n",
    "    batch = keywords[i:i+batch_size]\n",
    "    pytrends.build_payload(kw_list=batch)\n",
    "    time.sleep(5)  # Esperar 5 segundoS entre lotes"
   ]
  },
  {
   "cell_type": "code",
   "execution_count": 14,
   "metadata": {},
   "outputs": [
    {
     "ename": "TooManyRequestsError",
     "evalue": "The request failed: Google returned a response with code 429",
     "output_type": "error",
     "traceback": [
      "\u001b[1;31m---------------------------------------------------------------------------\u001b[0m",
      "\u001b[1;31mTooManyRequestsError\u001b[0m                      Traceback (most recent call last)",
      "Cell \u001b[1;32mIn[14], line 2\u001b[0m\n\u001b[0;32m      1\u001b[0m \u001b[38;5;66;03m# y ahora, el interest\u001b[39;00m\n\u001b[1;32m----> 2\u001b[0m interest_over_time_df \u001b[38;5;241m=\u001b[39m \u001b[43mpytrends\u001b[49m\u001b[38;5;241;43m.\u001b[39;49m\u001b[43minterest_over_time\u001b[49m\u001b[43m(\u001b[49m\u001b[43m)\u001b[49m\n\u001b[0;32m      3\u001b[0m \u001b[38;5;28mprint\u001b[39m(interest_over_time_df)\n\u001b[0;32m      4\u001b[0m \u001b[38;5;66;03m# sigue saliendo el mismo error, CONSULTAR\u001b[39;00m\n",
      "File \u001b[1;32mc:\\Users\\Picar\\AppData\\Local\\Programs\\Python\\Python39\\lib\\site-packages\\pytrends\\request.py:232\u001b[0m, in \u001b[0;36mTrendReq.interest_over_time\u001b[1;34m(self)\u001b[0m\n\u001b[0;32m    224\u001b[0m over_time_payload \u001b[38;5;241m=\u001b[39m {\n\u001b[0;32m    225\u001b[0m     \u001b[38;5;66;03m# convert to string as requests will mangle\u001b[39;00m\n\u001b[0;32m    226\u001b[0m     \u001b[38;5;124m'\u001b[39m\u001b[38;5;124mreq\u001b[39m\u001b[38;5;124m'\u001b[39m: json\u001b[38;5;241m.\u001b[39mdumps(\u001b[38;5;28mself\u001b[39m\u001b[38;5;241m.\u001b[39minterest_over_time_widget[\u001b[38;5;124m'\u001b[39m\u001b[38;5;124mrequest\u001b[39m\u001b[38;5;124m'\u001b[39m]),\n\u001b[0;32m    227\u001b[0m     \u001b[38;5;124m'\u001b[39m\u001b[38;5;124mtoken\u001b[39m\u001b[38;5;124m'\u001b[39m: \u001b[38;5;28mself\u001b[39m\u001b[38;5;241m.\u001b[39minterest_over_time_widget[\u001b[38;5;124m'\u001b[39m\u001b[38;5;124mtoken\u001b[39m\u001b[38;5;124m'\u001b[39m],\n\u001b[0;32m    228\u001b[0m     \u001b[38;5;124m'\u001b[39m\u001b[38;5;124mtz\u001b[39m\u001b[38;5;124m'\u001b[39m: \u001b[38;5;28mself\u001b[39m\u001b[38;5;241m.\u001b[39mtz\n\u001b[0;32m    229\u001b[0m }\n\u001b[0;32m    231\u001b[0m \u001b[38;5;66;03m# make the request and parse the returned json\u001b[39;00m\n\u001b[1;32m--> 232\u001b[0m req_json \u001b[38;5;241m=\u001b[39m \u001b[38;5;28;43mself\u001b[39;49m\u001b[38;5;241;43m.\u001b[39;49m\u001b[43m_get_data\u001b[49m\u001b[43m(\u001b[49m\n\u001b[0;32m    233\u001b[0m \u001b[43m    \u001b[49m\u001b[43murl\u001b[49m\u001b[38;5;241;43m=\u001b[39;49m\u001b[43mTrendReq\u001b[49m\u001b[38;5;241;43m.\u001b[39;49m\u001b[43mINTEREST_OVER_TIME_URL\u001b[49m\u001b[43m,\u001b[49m\n\u001b[0;32m    234\u001b[0m \u001b[43m    \u001b[49m\u001b[43mmethod\u001b[49m\u001b[38;5;241;43m=\u001b[39;49m\u001b[43mTrendReq\u001b[49m\u001b[38;5;241;43m.\u001b[39;49m\u001b[43mGET_METHOD\u001b[49m\u001b[43m,\u001b[49m\n\u001b[0;32m    235\u001b[0m \u001b[43m    \u001b[49m\u001b[43mtrim_chars\u001b[49m\u001b[38;5;241;43m=\u001b[39;49m\u001b[38;5;241;43m5\u001b[39;49m\u001b[43m,\u001b[49m\n\u001b[0;32m    236\u001b[0m \u001b[43m    \u001b[49m\u001b[43mparams\u001b[49m\u001b[38;5;241;43m=\u001b[39;49m\u001b[43mover_time_payload\u001b[49m\u001b[43m,\u001b[49m\n\u001b[0;32m    237\u001b[0m \u001b[43m\u001b[49m\u001b[43m)\u001b[49m\n\u001b[0;32m    239\u001b[0m df \u001b[38;5;241m=\u001b[39m pd\u001b[38;5;241m.\u001b[39mDataFrame(req_json[\u001b[38;5;124m'\u001b[39m\u001b[38;5;124mdefault\u001b[39m\u001b[38;5;124m'\u001b[39m][\u001b[38;5;124m'\u001b[39m\u001b[38;5;124mtimelineData\u001b[39m\u001b[38;5;124m'\u001b[39m])\n\u001b[0;32m    240\u001b[0m \u001b[38;5;28;01mif\u001b[39;00m (df\u001b[38;5;241m.\u001b[39mempty):\n",
      "File \u001b[1;32mc:\\Users\\Picar\\AppData\\Local\\Programs\\Python\\Python39\\lib\\site-packages\\pytrends\\request.py:159\u001b[0m, in \u001b[0;36mTrendReq._get_data\u001b[1;34m(self, url, method, trim_chars, **kwargs)\u001b[0m\n\u001b[0;32m    157\u001b[0m \u001b[38;5;28;01melse\u001b[39;00m:\n\u001b[0;32m    158\u001b[0m     \u001b[38;5;28;01mif\u001b[39;00m response\u001b[38;5;241m.\u001b[39mstatus_code \u001b[38;5;241m==\u001b[39m status_codes\u001b[38;5;241m.\u001b[39mcodes\u001b[38;5;241m.\u001b[39mtoo_many_requests:\n\u001b[1;32m--> 159\u001b[0m         \u001b[38;5;28;01mraise\u001b[39;00m exceptions\u001b[38;5;241m.\u001b[39mTooManyRequestsError\u001b[38;5;241m.\u001b[39mfrom_response(response)\n\u001b[0;32m    160\u001b[0m     \u001b[38;5;28;01mraise\u001b[39;00m exceptions\u001b[38;5;241m.\u001b[39mResponseError\u001b[38;5;241m.\u001b[39mfrom_response(response)\n",
      "\u001b[1;31mTooManyRequestsError\u001b[0m: The request failed: Google returned a response with code 429"
     ]
    }
   ],
   "source": [
    "# y ahora, el interest\n",
    "interest_over_time_df = pytrends.interest_over_time()\n",
    "print(interest_over_time_df)\n",
    "# sigue saliendo el mismo error, CONSULTAR"
   ]
  },
  {
   "cell_type": "code",
   "execution_count": null,
   "metadata": {},
   "outputs": [],
   "source": [
    "# hecho, pruebas para conseguir los topics id y con google trend directamente"
   ]
  },
  {
   "cell_type": "code",
   "execution_count": null,
   "metadata": {},
   "outputs": [],
   "source": [
    "# NOTA, HE HECHO UNA PRUEBA CON GOOGLE TRENDS DIRECTAMENTE, Y ES MUY FACIL E INTUITIVO, \n",
    "# INTRODUCIENDO UN TOPIC, EL PAIS O LO QUE QUERAMOS. PERO NO ES CON PYTRENDS"
   ]
  }
 ],
 "metadata": {
  "kernelspec": {
   "display_name": "Python 3",
   "language": "python",
   "name": "python3"
  },
  "language_info": {
   "codemirror_mode": {
    "name": "ipython",
    "version": 3
   },
   "file_extension": ".py",
   "mimetype": "text/x-python",
   "name": "python",
   "nbconvert_exporter": "python",
   "pygments_lexer": "ipython3",
   "version": "3.9.2"
  }
 },
 "nbformat": 4,
 "nbformat_minor": 2
}
