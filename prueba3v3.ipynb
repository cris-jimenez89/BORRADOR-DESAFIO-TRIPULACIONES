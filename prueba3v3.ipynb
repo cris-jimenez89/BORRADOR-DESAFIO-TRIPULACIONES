{
 "cells": [
  {
   "cell_type": "code",
   "execution_count": 1,
   "metadata": {},
   "outputs": [],
   "source": [
    "import pandas as pd\n",
    "import os\n"
   ]
  },
  {
   "cell_type": "code",
   "execution_count": 2,
   "metadata": {},
   "outputs": [],
   "source": [
    "df = pd.read_csv(\"data/raw/estat_lfsq_pganws_en.csv\")"
   ]
  },
  {
   "cell_type": "code",
   "execution_count": 3,
   "metadata": {},
   "outputs": [
    {
     "data": {
      "text/html": [
       "<div>\n",
       "<style scoped>\n",
       "    .dataframe tbody tr th:only-of-type {\n",
       "        vertical-align: middle;\n",
       "    }\n",
       "\n",
       "    .dataframe tbody tr th {\n",
       "        vertical-align: top;\n",
       "    }\n",
       "\n",
       "    .dataframe thead th {\n",
       "        text-align: right;\n",
       "    }\n",
       "</style>\n",
       "<table border=\"1\" class=\"dataframe\">\n",
       "  <thead>\n",
       "    <tr style=\"text-align: right;\">\n",
       "      <th></th>\n",
       "      <th>DATAFLOW</th>\n",
       "      <th>LAST UPDATE</th>\n",
       "      <th>freq</th>\n",
       "      <th>unit</th>\n",
       "      <th>sex</th>\n",
       "      <th>citizen</th>\n",
       "      <th>age</th>\n",
       "      <th>wstatus</th>\n",
       "      <th>geo</th>\n",
       "      <th>TIME_PERIOD</th>\n",
       "      <th>OBS_VALUE</th>\n",
       "      <th>OBS_FLAG</th>\n",
       "    </tr>\n",
       "  </thead>\n",
       "  <tbody>\n",
       "    <tr>\n",
       "      <th>0</th>\n",
       "      <td>ESTAT:LFSQ_PGANWS(1.0)</td>\n",
       "      <td>15/03/24 11:00:00</td>\n",
       "      <td>Q</td>\n",
       "      <td>THS_PER</td>\n",
       "      <td>F</td>\n",
       "      <td>EU27_2020_FOR</td>\n",
       "      <td>Y15-19</td>\n",
       "      <td>ACT</td>\n",
       "      <td>AT</td>\n",
       "      <td>1998-Q1</td>\n",
       "      <td>NaN</td>\n",
       "      <td>u</td>\n",
       "    </tr>\n",
       "    <tr>\n",
       "      <th>1</th>\n",
       "      <td>ESTAT:LFSQ_PGANWS(1.0)</td>\n",
       "      <td>15/03/24 11:00:00</td>\n",
       "      <td>Q</td>\n",
       "      <td>THS_PER</td>\n",
       "      <td>F</td>\n",
       "      <td>EU27_2020_FOR</td>\n",
       "      <td>Y15-19</td>\n",
       "      <td>ACT</td>\n",
       "      <td>AT</td>\n",
       "      <td>1999-Q1</td>\n",
       "      <td>NaN</td>\n",
       "      <td>u</td>\n",
       "    </tr>\n",
       "    <tr>\n",
       "      <th>2</th>\n",
       "      <td>ESTAT:LFSQ_PGANWS(1.0)</td>\n",
       "      <td>15/03/24 11:00:00</td>\n",
       "      <td>Q</td>\n",
       "      <td>THS_PER</td>\n",
       "      <td>F</td>\n",
       "      <td>EU27_2020_FOR</td>\n",
       "      <td>Y15-19</td>\n",
       "      <td>ACT</td>\n",
       "      <td>AT</td>\n",
       "      <td>2000-Q1</td>\n",
       "      <td>NaN</td>\n",
       "      <td>u</td>\n",
       "    </tr>\n",
       "    <tr>\n",
       "      <th>3</th>\n",
       "      <td>ESTAT:LFSQ_PGANWS(1.0)</td>\n",
       "      <td>15/03/24 11:00:00</td>\n",
       "      <td>Q</td>\n",
       "      <td>THS_PER</td>\n",
       "      <td>F</td>\n",
       "      <td>EU27_2020_FOR</td>\n",
       "      <td>Y15-19</td>\n",
       "      <td>ACT</td>\n",
       "      <td>AT</td>\n",
       "      <td>2000-Q2</td>\n",
       "      <td>NaN</td>\n",
       "      <td>u</td>\n",
       "    </tr>\n",
       "    <tr>\n",
       "      <th>4</th>\n",
       "      <td>ESTAT:LFSQ_PGANWS(1.0)</td>\n",
       "      <td>15/03/24 11:00:00</td>\n",
       "      <td>Q</td>\n",
       "      <td>THS_PER</td>\n",
       "      <td>F</td>\n",
       "      <td>EU27_2020_FOR</td>\n",
       "      <td>Y15-19</td>\n",
       "      <td>ACT</td>\n",
       "      <td>AT</td>\n",
       "      <td>2001-Q1</td>\n",
       "      <td>NaN</td>\n",
       "      <td>u</td>\n",
       "    </tr>\n",
       "  </tbody>\n",
       "</table>\n",
       "</div>"
      ],
      "text/plain": [
       "                 DATAFLOW        LAST UPDATE freq     unit sex        citizen  \\\n",
       "0  ESTAT:LFSQ_PGANWS(1.0)  15/03/24 11:00:00    Q  THS_PER   F  EU27_2020_FOR   \n",
       "1  ESTAT:LFSQ_PGANWS(1.0)  15/03/24 11:00:00    Q  THS_PER   F  EU27_2020_FOR   \n",
       "2  ESTAT:LFSQ_PGANWS(1.0)  15/03/24 11:00:00    Q  THS_PER   F  EU27_2020_FOR   \n",
       "3  ESTAT:LFSQ_PGANWS(1.0)  15/03/24 11:00:00    Q  THS_PER   F  EU27_2020_FOR   \n",
       "4  ESTAT:LFSQ_PGANWS(1.0)  15/03/24 11:00:00    Q  THS_PER   F  EU27_2020_FOR   \n",
       "\n",
       "      age wstatus geo TIME_PERIOD  OBS_VALUE OBS_FLAG  \n",
       "0  Y15-19     ACT  AT     1998-Q1        NaN        u  \n",
       "1  Y15-19     ACT  AT     1999-Q1        NaN        u  \n",
       "2  Y15-19     ACT  AT     2000-Q1        NaN        u  \n",
       "3  Y15-19     ACT  AT     2000-Q2        NaN        u  \n",
       "4  Y15-19     ACT  AT     2001-Q1        NaN        u  "
      ]
     },
     "execution_count": 3,
     "metadata": {},
     "output_type": "execute_result"
    }
   ],
   "source": [
    "df.head()"
   ]
  },
  {
   "cell_type": "markdown",
   "metadata": {},
   "source": [
    "eliminamos columans inutiles"
   ]
  },
  {
   "cell_type": "code",
   "execution_count": 4,
   "metadata": {},
   "outputs": [],
   "source": [
    "df = df.drop(['DATAFLOW','freq','unit','OBS_FLAG','LAST UPDATE'],axis=1)"
   ]
  },
  {
   "cell_type": "markdown",
   "metadata": {},
   "source": [
    "cambiar Nan por ceros en OBS_VALUE"
   ]
  },
  {
   "cell_type": "code",
   "execution_count": 5,
   "metadata": {},
   "outputs": [],
   "source": [
    "df['OBS_VALUE'] = df['OBS_VALUE'].fillna(0)\n"
   ]
  },
  {
   "cell_type": "code",
   "execution_count": 6,
   "metadata": {},
   "outputs": [
    {
     "data": {
      "text/plain": [
       "array(['EU27_2020_FOR', 'FOR', 'NAT', 'NEU27_2020_FOR', 'NRP', 'STLS',\n",
       "       'TOTAL'], dtype=object)"
      ]
     },
     "execution_count": 6,
     "metadata": {},
     "output_type": "execute_result"
    }
   ],
   "source": [
    "df['citizen'].unique()"
   ]
  },
  {
   "cell_type": "code",
   "execution_count": 7,
   "metadata": {},
   "outputs": [
    {
     "data": {
      "text/plain": [
       "array(['Y15-19', 'Y15-24', 'Y15-39', 'Y15-59', 'Y15-64', 'Y15-74',\n",
       "       'Y20-24', 'Y20-64', 'Y25-29', 'Y25-49', 'Y25-54', 'Y25-59',\n",
       "       'Y25-64', 'Y30-34', 'Y35-39', 'Y40-44', 'Y40-59', 'Y40-64',\n",
       "       'Y45-49', 'Y50-54', 'Y50-59', 'Y50-64', 'Y55-59', 'Y55-64',\n",
       "       'Y60-64', 'Y65-69', 'Y70-74', 'Y_GE15', 'Y_GE25', 'Y_GE50',\n",
       "       'Y_GE65', 'Y_GE75'], dtype=object)"
      ]
     },
     "execution_count": 7,
     "metadata": {},
     "output_type": "execute_result"
    }
   ],
   "source": [
    "df['age'].unique()"
   ]
  },
  {
   "cell_type": "markdown",
   "metadata": {},
   "source": [
    "añdimos columnas con fechas año mes y dia"
   ]
  },
  {
   "cell_type": "code",
   "execution_count": 8,
   "metadata": {},
   "outputs": [],
   "source": [
    "# Función para mapear los trimestres a meses específicos\n",
    "def map_quarter_to_month(quarter):\n",
    "    year, q = quarter.split('-Q')\n",
    "    if q == '1':\n",
    "        return f\"{year}-03-01\"\n",
    "    elif q == '2':\n",
    "        return f\"{year}-06-01\"\n",
    "    elif q == '3':\n",
    "        return f\"{year}-09-01\"\n",
    "    elif q == '4':\n",
    "        return f\"{year}-12-01\"\n",
    "    else:\n",
    "        return None\n",
    "\n",
    "# Crear la nueva columna 'year_month' basada en la columna 'TIME_PERIOD'\n",
    "df['year_month'] = df['TIME_PERIOD'].apply(map_quarter_to_month)"
   ]
  },
  {
   "cell_type": "markdown",
   "metadata": {},
   "source": [
    "nos quedamos con los extranjeros activos"
   ]
  },
  {
   "cell_type": "code",
   "execution_count": 9,
   "metadata": {},
   "outputs": [
    {
     "data": {
      "text/html": [
       "<div>\n",
       "<style scoped>\n",
       "    .dataframe tbody tr th:only-of-type {\n",
       "        vertical-align: middle;\n",
       "    }\n",
       "\n",
       "    .dataframe tbody tr th {\n",
       "        vertical-align: top;\n",
       "    }\n",
       "\n",
       "    .dataframe thead th {\n",
       "        text-align: right;\n",
       "    }\n",
       "</style>\n",
       "<table border=\"1\" class=\"dataframe\">\n",
       "  <thead>\n",
       "    <tr style=\"text-align: right;\">\n",
       "      <th></th>\n",
       "      <th>sex</th>\n",
       "      <th>citizen</th>\n",
       "      <th>age</th>\n",
       "      <th>wstatus</th>\n",
       "      <th>geo</th>\n",
       "      <th>TIME_PERIOD</th>\n",
       "      <th>OBS_VALUE</th>\n",
       "      <th>year_month</th>\n",
       "    </tr>\n",
       "  </thead>\n",
       "  <tbody>\n",
       "    <tr>\n",
       "      <th>378374</th>\n",
       "      <td>F</td>\n",
       "      <td>FOR</td>\n",
       "      <td>Y15-19</td>\n",
       "      <td>ACT</td>\n",
       "      <td>AT</td>\n",
       "      <td>1998-Q1</td>\n",
       "      <td>9.5</td>\n",
       "      <td>1998-03-01</td>\n",
       "    </tr>\n",
       "    <tr>\n",
       "      <th>378375</th>\n",
       "      <td>F</td>\n",
       "      <td>FOR</td>\n",
       "      <td>Y15-19</td>\n",
       "      <td>ACT</td>\n",
       "      <td>AT</td>\n",
       "      <td>1999-Q1</td>\n",
       "      <td>7.3</td>\n",
       "      <td>1999-03-01</td>\n",
       "    </tr>\n",
       "    <tr>\n",
       "      <th>378376</th>\n",
       "      <td>F</td>\n",
       "      <td>FOR</td>\n",
       "      <td>Y15-19</td>\n",
       "      <td>ACT</td>\n",
       "      <td>AT</td>\n",
       "      <td>2000-Q1</td>\n",
       "      <td>9.7</td>\n",
       "      <td>2000-03-01</td>\n",
       "    </tr>\n",
       "    <tr>\n",
       "      <th>378377</th>\n",
       "      <td>F</td>\n",
       "      <td>FOR</td>\n",
       "      <td>Y15-19</td>\n",
       "      <td>ACT</td>\n",
       "      <td>AT</td>\n",
       "      <td>2000-Q2</td>\n",
       "      <td>8.8</td>\n",
       "      <td>2000-06-01</td>\n",
       "    </tr>\n",
       "    <tr>\n",
       "      <th>378378</th>\n",
       "      <td>F</td>\n",
       "      <td>FOR</td>\n",
       "      <td>Y15-19</td>\n",
       "      <td>ACT</td>\n",
       "      <td>AT</td>\n",
       "      <td>2001-Q1</td>\n",
       "      <td>7.7</td>\n",
       "      <td>2001-03-01</td>\n",
       "    </tr>\n",
       "    <tr>\n",
       "      <th>378379</th>\n",
       "      <td>F</td>\n",
       "      <td>FOR</td>\n",
       "      <td>Y15-19</td>\n",
       "      <td>ACT</td>\n",
       "      <td>AT</td>\n",
       "      <td>2002-Q1</td>\n",
       "      <td>7.6</td>\n",
       "      <td>2002-03-01</td>\n",
       "    </tr>\n",
       "    <tr>\n",
       "      <th>378380</th>\n",
       "      <td>F</td>\n",
       "      <td>FOR</td>\n",
       "      <td>Y15-19</td>\n",
       "      <td>ACT</td>\n",
       "      <td>AT</td>\n",
       "      <td>2003-Q1</td>\n",
       "      <td>6.5</td>\n",
       "      <td>2003-03-01</td>\n",
       "    </tr>\n",
       "    <tr>\n",
       "      <th>378381</th>\n",
       "      <td>F</td>\n",
       "      <td>FOR</td>\n",
       "      <td>Y15-19</td>\n",
       "      <td>ACT</td>\n",
       "      <td>AT</td>\n",
       "      <td>2003-Q2</td>\n",
       "      <td>4.6</td>\n",
       "      <td>2003-06-01</td>\n",
       "    </tr>\n",
       "    <tr>\n",
       "      <th>378382</th>\n",
       "      <td>F</td>\n",
       "      <td>FOR</td>\n",
       "      <td>Y15-19</td>\n",
       "      <td>ACT</td>\n",
       "      <td>AT</td>\n",
       "      <td>2003-Q3</td>\n",
       "      <td>5.6</td>\n",
       "      <td>2003-09-01</td>\n",
       "    </tr>\n",
       "    <tr>\n",
       "      <th>378383</th>\n",
       "      <td>F</td>\n",
       "      <td>FOR</td>\n",
       "      <td>Y15-19</td>\n",
       "      <td>ACT</td>\n",
       "      <td>AT</td>\n",
       "      <td>2003-Q4</td>\n",
       "      <td>6.2</td>\n",
       "      <td>2003-12-01</td>\n",
       "    </tr>\n",
       "  </tbody>\n",
       "</table>\n",
       "</div>"
      ],
      "text/plain": [
       "       sex citizen     age wstatus geo TIME_PERIOD  OBS_VALUE  year_month\n",
       "378374   F     FOR  Y15-19     ACT  AT     1998-Q1        9.5  1998-03-01\n",
       "378375   F     FOR  Y15-19     ACT  AT     1999-Q1        7.3  1999-03-01\n",
       "378376   F     FOR  Y15-19     ACT  AT     2000-Q1        9.7  2000-03-01\n",
       "378377   F     FOR  Y15-19     ACT  AT     2000-Q2        8.8  2000-06-01\n",
       "378378   F     FOR  Y15-19     ACT  AT     2001-Q1        7.7  2001-03-01\n",
       "378379   F     FOR  Y15-19     ACT  AT     2002-Q1        7.6  2002-03-01\n",
       "378380   F     FOR  Y15-19     ACT  AT     2003-Q1        6.5  2003-03-01\n",
       "378381   F     FOR  Y15-19     ACT  AT     2003-Q2        4.6  2003-06-01\n",
       "378382   F     FOR  Y15-19     ACT  AT     2003-Q3        5.6  2003-09-01\n",
       "378383   F     FOR  Y15-19     ACT  AT     2003-Q4        6.2  2003-12-01"
      ]
     },
     "execution_count": 9,
     "metadata": {},
     "output_type": "execute_result"
    }
   ],
   "source": [
    "df_foreigners_act = df[(df['citizen']=='FOR') & (df['wstatus']=='ACT')]\n",
    "df_foreigners_act.head(10)"
   ]
  },
  {
   "cell_type": "markdown",
   "metadata": {},
   "source": [
    "y con la fecha >= 2014"
   ]
  },
  {
   "cell_type": "code",
   "execution_count": 10,
   "metadata": {},
   "outputs": [],
   "source": [
    "df_foreigners_act = df_foreigners_act[df_foreigners_act['year_month'] >= '2014-01-01']"
   ]
  },
  {
   "cell_type": "code",
   "execution_count": 11,
   "metadata": {},
   "outputs": [
    {
     "data": {
      "text/html": [
       "<div>\n",
       "<style scoped>\n",
       "    .dataframe tbody tr th:only-of-type {\n",
       "        vertical-align: middle;\n",
       "    }\n",
       "\n",
       "    .dataframe tbody tr th {\n",
       "        vertical-align: top;\n",
       "    }\n",
       "\n",
       "    .dataframe thead th {\n",
       "        text-align: right;\n",
       "    }\n",
       "</style>\n",
       "<table border=\"1\" class=\"dataframe\">\n",
       "  <thead>\n",
       "    <tr style=\"text-align: right;\">\n",
       "      <th></th>\n",
       "      <th>sex</th>\n",
       "      <th>citizen</th>\n",
       "      <th>age</th>\n",
       "      <th>wstatus</th>\n",
       "      <th>geo</th>\n",
       "      <th>TIME_PERIOD</th>\n",
       "      <th>OBS_VALUE</th>\n",
       "      <th>year_month</th>\n",
       "    </tr>\n",
       "  </thead>\n",
       "  <tbody>\n",
       "    <tr>\n",
       "      <th>378424</th>\n",
       "      <td>F</td>\n",
       "      <td>FOR</td>\n",
       "      <td>Y15-19</td>\n",
       "      <td>ACT</td>\n",
       "      <td>AT</td>\n",
       "      <td>2014-Q1</td>\n",
       "      <td>7.4</td>\n",
       "      <td>2014-03-01</td>\n",
       "    </tr>\n",
       "    <tr>\n",
       "      <th>378425</th>\n",
       "      <td>F</td>\n",
       "      <td>FOR</td>\n",
       "      <td>Y15-19</td>\n",
       "      <td>ACT</td>\n",
       "      <td>AT</td>\n",
       "      <td>2014-Q2</td>\n",
       "      <td>6.5</td>\n",
       "      <td>2014-06-01</td>\n",
       "    </tr>\n",
       "    <tr>\n",
       "      <th>378426</th>\n",
       "      <td>F</td>\n",
       "      <td>FOR</td>\n",
       "      <td>Y15-19</td>\n",
       "      <td>ACT</td>\n",
       "      <td>AT</td>\n",
       "      <td>2014-Q3</td>\n",
       "      <td>6.1</td>\n",
       "      <td>2014-09-01</td>\n",
       "    </tr>\n",
       "    <tr>\n",
       "      <th>378427</th>\n",
       "      <td>F</td>\n",
       "      <td>FOR</td>\n",
       "      <td>Y15-19</td>\n",
       "      <td>ACT</td>\n",
       "      <td>AT</td>\n",
       "      <td>2014-Q4</td>\n",
       "      <td>7.2</td>\n",
       "      <td>2014-12-01</td>\n",
       "    </tr>\n",
       "    <tr>\n",
       "      <th>378428</th>\n",
       "      <td>F</td>\n",
       "      <td>FOR</td>\n",
       "      <td>Y15-19</td>\n",
       "      <td>ACT</td>\n",
       "      <td>AT</td>\n",
       "      <td>2015-Q1</td>\n",
       "      <td>5.3</td>\n",
       "      <td>2015-03-01</td>\n",
       "    </tr>\n",
       "    <tr>\n",
       "      <th>378429</th>\n",
       "      <td>F</td>\n",
       "      <td>FOR</td>\n",
       "      <td>Y15-19</td>\n",
       "      <td>ACT</td>\n",
       "      <td>AT</td>\n",
       "      <td>2015-Q2</td>\n",
       "      <td>5.4</td>\n",
       "      <td>2015-06-01</td>\n",
       "    </tr>\n",
       "    <tr>\n",
       "      <th>378430</th>\n",
       "      <td>F</td>\n",
       "      <td>FOR</td>\n",
       "      <td>Y15-19</td>\n",
       "      <td>ACT</td>\n",
       "      <td>AT</td>\n",
       "      <td>2015-Q3</td>\n",
       "      <td>6.9</td>\n",
       "      <td>2015-09-01</td>\n",
       "    </tr>\n",
       "    <tr>\n",
       "      <th>378431</th>\n",
       "      <td>F</td>\n",
       "      <td>FOR</td>\n",
       "      <td>Y15-19</td>\n",
       "      <td>ACT</td>\n",
       "      <td>AT</td>\n",
       "      <td>2015-Q4</td>\n",
       "      <td>7.1</td>\n",
       "      <td>2015-12-01</td>\n",
       "    </tr>\n",
       "    <tr>\n",
       "      <th>378432</th>\n",
       "      <td>F</td>\n",
       "      <td>FOR</td>\n",
       "      <td>Y15-19</td>\n",
       "      <td>ACT</td>\n",
       "      <td>AT</td>\n",
       "      <td>2016-Q1</td>\n",
       "      <td>7.5</td>\n",
       "      <td>2016-03-01</td>\n",
       "    </tr>\n",
       "    <tr>\n",
       "      <th>378433</th>\n",
       "      <td>F</td>\n",
       "      <td>FOR</td>\n",
       "      <td>Y15-19</td>\n",
       "      <td>ACT</td>\n",
       "      <td>AT</td>\n",
       "      <td>2016-Q2</td>\n",
       "      <td>10.0</td>\n",
       "      <td>2016-06-01</td>\n",
       "    </tr>\n",
       "  </tbody>\n",
       "</table>\n",
       "</div>"
      ],
      "text/plain": [
       "       sex citizen     age wstatus geo TIME_PERIOD  OBS_VALUE  year_month\n",
       "378424   F     FOR  Y15-19     ACT  AT     2014-Q1        7.4  2014-03-01\n",
       "378425   F     FOR  Y15-19     ACT  AT     2014-Q2        6.5  2014-06-01\n",
       "378426   F     FOR  Y15-19     ACT  AT     2014-Q3        6.1  2014-09-01\n",
       "378427   F     FOR  Y15-19     ACT  AT     2014-Q4        7.2  2014-12-01\n",
       "378428   F     FOR  Y15-19     ACT  AT     2015-Q1        5.3  2015-03-01\n",
       "378429   F     FOR  Y15-19     ACT  AT     2015-Q2        5.4  2015-06-01\n",
       "378430   F     FOR  Y15-19     ACT  AT     2015-Q3        6.9  2015-09-01\n",
       "378431   F     FOR  Y15-19     ACT  AT     2015-Q4        7.1  2015-12-01\n",
       "378432   F     FOR  Y15-19     ACT  AT     2016-Q1        7.5  2016-03-01\n",
       "378433   F     FOR  Y15-19     ACT  AT     2016-Q2       10.0  2016-06-01"
      ]
     },
     "execution_count": 11,
     "metadata": {},
     "output_type": "execute_result"
    }
   ],
   "source": [
    "df_foreigners_act.head(10)"
   ]
  },
  {
   "cell_type": "markdown",
   "metadata": {},
   "source": [
    "UK lo quitamos de los paises?"
   ]
  },
  {
   "cell_type": "code",
   "execution_count": 12,
   "metadata": {},
   "outputs": [],
   "source": [
    "countries = ['AT', 'BE', 'CH', 'CY', 'CZ', 'DE', 'DK', 'EE', 'EL', 'ES',\n",
    "       'FI', 'FR', 'HR', 'HU', 'IE', 'IS', 'IT', 'LU', 'ME',\n",
    "       'MT', 'NL', 'NO', 'PL', 'PT', 'RS', 'SE', 'SI', 'SK', 'UK', 'BA',\n",
    "       'BG', 'LT', 'LV', 'MK', 'RO', 'TR']"
   ]
  },
  {
   "cell_type": "markdown",
   "metadata": {},
   "source": [
    "creamos df por pais"
   ]
  },
  {
   "cell_type": "code",
   "execution_count": 13,
   "metadata": {},
   "outputs": [],
   "source": [
    "# Crear un diccionario de DataFrames, uno por cada país\n",
    "dfs_by_country = {}\n",
    "for country in countries:\n",
    "    dfs_by_country[country] = [df_foreigners_act[(df_foreigners_act['geo'] == country) & (df_foreigners_act['sex'] == 'M')],\n",
    "                               df_foreigners_act[(df_foreigners_act['geo'] == country) & (df_foreigners_act['sex'] == 'F')]]"
   ]
  },
  {
   "cell_type": "markdown",
   "metadata": {},
   "source": [
    "paises con df vacio"
   ]
  },
  {
   "cell_type": "code",
   "execution_count": 15,
   "metadata": {},
   "outputs": [
    {
     "name": "stdout",
     "output_type": "stream",
     "text": [
      "Países con DataFrames vacíos:\n",
      "TR\n"
     ]
    }
   ],
   "source": [
    "# Crear una lista para almacenar los países con DataFrames vacíos\n",
    "paises_con_dfs_vacios = []\n",
    "\n",
    "# Iterar sobre el diccionario\n",
    "for country, dfs in dfs_by_country.items():\n",
    "    # Verificar si ambas listas están vacías\n",
    "    if len(dfs[0]) == 0 and len(dfs[1]) == 0:\n",
    "        paises_con_dfs_vacios.append(country)\n",
    "\n",
    "# Imprimir los países con DataFrames vacíos\n",
    "print(\"Países con DataFrames vacíos:\")\n",
    "for pais in paises_con_dfs_vacios:\n",
    "    print(pais)"
   ]
  },
  {
   "cell_type": "markdown",
   "metadata": {},
   "source": [
    "lo eliminamos"
   ]
  },
  {
   "cell_type": "code",
   "execution_count": 16,
   "metadata": {},
   "outputs": [],
   "source": [
    "del dfs_by_country['TR']"
   ]
  },
  {
   "cell_type": "markdown",
   "metadata": {},
   "source": [
    "recorremos el diccionario y añadimos una columna con el total de obs para cada fecha en cada dataframe"
   ]
  },
  {
   "cell_type": "code",
   "execution_count": null,
   "metadata": {},
   "outputs": [],
   "source": [
    "# Iterar sobre el diccionario\n",
    "for country, dfs in dfs_by_country.items():\n",
    "    # Iterar sobre los DataFrames para el país actual\n",
    "    for df_gender in dfs:\n",
    "        # Calcular el total de observaciones por fecha\n",
    "        df_gender['total_obs_value'] = df_gender.groupby('year_month')['OBS_VALUE'].transform('sum')\n",
    "\n",
    "        "
   ]
  },
  {
   "cell_type": "markdown",
   "metadata": {},
   "source": [
    "salvamos los dfs en csv\n",
    "AHORA VIENEN SEPARADOS POR SEXO."
   ]
  },
  {
   "cell_type": "code",
   "execution_count": 18,
   "metadata": {},
   "outputs": [],
   "source": [
    "if not os.path.exists(\"data\"):\n",
    "    os.makedirs(\"data\")\n",
    "\n",
    "# Iterar sobre las claves y valores del diccionario\n",
    "for pais, dfs_pais in dfs_by_country.items():\n",
    "    i = 0\n",
    "    for df in dfs_pais:\n",
    "        # Generar el nombre del archivo CSV\n",
    "        if (i == 0):\n",
    "            nombre_archivo = f\"data/pre-processed/foreigner_act_{pais}_M.csv\"\n",
    "            i = 1\n",
    "        else:\n",
    "            \n",
    "            nombre_archivo = f\"data/pre-processed/foreigner_act_{pais}_F.csv\"\n",
    "        # Guardar el DataFrame como un archivo CSV\n",
    "        df.to_csv(nombre_archivo, index=False)\n"
   ]
  },
  {
   "cell_type": "code",
   "execution_count": null,
   "metadata": {},
   "outputs": [],
   "source": []
  }
 ],
 "metadata": {
  "kernelspec": {
   "display_name": "Python 3",
   "language": "python",
   "name": "python3"
  },
  "language_info": {
   "codemirror_mode": {
    "name": "ipython",
    "version": 3
   },
   "file_extension": ".py",
   "mimetype": "text/x-python",
   "name": "python",
   "nbconvert_exporter": "python",
   "pygments_lexer": "ipython3",
   "version": "3.10.9"
  }
 },
 "nbformat": 4,
 "nbformat_minor": 2
}
