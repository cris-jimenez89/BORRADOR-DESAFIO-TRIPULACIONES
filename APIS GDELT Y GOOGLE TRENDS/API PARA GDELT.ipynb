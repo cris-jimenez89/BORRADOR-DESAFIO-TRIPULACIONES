{
 "cells": [
  {
   "cell_type": "code",
   "execution_count": null,
   "metadata": {},
   "outputs": [],
   "source": [
    "from fastapi import FastAPI\n",
    "from pydantic import BaseModel\n",
    "from gdeltdoc import GdeltDoc, Filters\n",
    "import pandas as pd"
   ]
  },
  {
   "cell_type": "code",
   "execution_count": null,
   "metadata": {},
   "outputs": [],
   "source": [
    "app = FastAPI()\n",
    "\n",
    "# 3 ENDPOINTS PARA EXTRAER DATOS DE GDELT\n",
    "@app.get(\"/articles/\")\n",
    "def get_articles(keyword: str, start_date: str, end_date: str, country: str):\n",
    "    f = Filters(keyword=keyword,\n",
    "        start_date=start_date,\n",
    "        end_date=end_date,\n",
    "        country=[country])\n",
    "    gd = GdeltDoc()\n",
    "    articles = gd.article_search(f)\n",
    "    df = pd.DataFrame(articles)\n",
    "    return df\n",
    "\n",
    "@app.get(\"/tone/\") # PARA EL TONO\n",
    "def get_tone_results(keyword: str, start_date: str, end_date: str, country: str):\n",
    "    f = Filters(keyword=keyword,\n",
    "        start_date=start_date,\n",
    "        end_date=end_date,\n",
    "        country=[country])\n",
    "    gd = GdeltDoc()\n",
    "    tone_results = gd.timeline_search(\"timelinetone\", f)\n",
    "    return tone_results\n",
    "\n",
    "@app.get(\"/popularity/\") # PARA LA POPULARIDAD\n",
    "def get_popularity_results(keyword: str, start_date: str, end_date: str, country: str):\n",
    "    f = Filters( keyword=keyword,\n",
    "        start_date=start_date,\n",
    "        end_date=end_date,\n",
    "        country=[country])\n",
    "    gd = GdeltDoc()\n",
    "    popularity_results = gd.timeline_search(\"timelinevol\", f)\n",
    "    return popularity_results\n"
   ]
  }
 ],
 "metadata": {
  "kernelspec": {
   "display_name": "Python 3",
   "language": "python",
   "name": "python3"
  },
  "language_info": {
   "name": "python",
   "version": "3.9.2"
  }
 },
 "nbformat": 4,
 "nbformat_minor": 2
}
