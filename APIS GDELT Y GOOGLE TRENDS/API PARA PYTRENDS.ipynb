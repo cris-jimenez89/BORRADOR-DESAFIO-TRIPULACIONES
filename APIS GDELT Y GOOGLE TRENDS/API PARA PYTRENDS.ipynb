{
 "cells": [
  {
   "cell_type": "code",
   "execution_count": 1,
   "metadata": {},
   "outputs": [],
   "source": [
    "from fastapi import FastAPI\n",
    "from pytrends.request import TrendReq\n",
    "import pandas as pd\n",
    "import time\n",
    "\n",
    "app = FastAPI()\n",
    "\n",
    "def obtener_datos_google_trends_semanal(topic):\n",
    "    try:\n",
    "        # Intentar obtener datos de Google Trends\n",
    "        pytrends = TrendReq(hl='es', tz=360)\n",
    "        pytrends.build_payload(kw_list=[topic], timeframe='2014-01-01 2024-03-31', geo='US')\n",
    "        data = pytrends.interest_over_time()\n",
    "        \n",
    "        # Convertir datos a frecuencia semanal\n",
    "        data_semanal = data.resample('W').mean()\n",
    "        \n",
    "        return data_semanal\n",
    "    except Exception as e:\n",
    "        # Si ocurre un error, imprimirlo y esperar antes de volver a intentar\n",
    "        print(f\"Error al obtener datos de Google Trends: {e}\")\n",
    "        time.sleep(60)  # Esperar 60 segundos \n",
    "        return obtener_datos_google_trends_semanal(topic)\n",
    "\n",
    "# Endpoint para Google Trends\n",
    "@app.get(\"/google-trends/{topic}\") # donde meter los topics\n",
    "def google_trends_handler(topic: str):\n",
    "    trends_data = obtener_datos_google_trends_semanal(topic) # Obtenemos los datos de Google Trends para el tema proporcionado\n",
    "    return trends_data.to_dict() # Devolver los datos de tendencias como respuesta\n"
   ]
  }
 ],
 "metadata": {
  "kernelspec": {
   "display_name": "Python 3",
   "language": "python",
   "name": "python3"
  },
  "language_info": {
   "codemirror_mode": {
    "name": "ipython",
    "version": 3
   },
   "file_extension": ".py",
   "mimetype": "text/x-python",
   "name": "python",
   "nbconvert_exporter": "python",
   "pygments_lexer": "ipython3",
   "version": "3.9.2rc1"
  }
 },
 "nbformat": 4,
 "nbformat_minor": 2
}
